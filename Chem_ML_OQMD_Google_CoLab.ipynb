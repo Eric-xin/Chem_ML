{
 "cells": [
  {
   "cell_type": "markdown",
   "metadata": {
    "id": "qlyAHNQQwNXj"
   },
   "source": [
    "## Load the data"
   ]
  },
  {
   "cell_type": "code",
   "execution_count": null,
   "metadata": {
    "id": "9TVSlS43wNXl"
   },
   "outputs": [],
   "source": [
    "import pandas as pd\n",
    "import torch\n",
    "import torch.nn as nn\n",
    "import torch.optim as optim\n",
    "from sklearn.model_selection import KFold\n",
    "from sklearn.preprocessing import StandardScaler\n",
    "from sklearn.model_selection import train_test_split\n",
    "# from sklearn.metrics import mean_squared_error\n",
    "import numpy as np\n"
   ]
  },
  {
   "cell_type": "code",
   "execution_count": null,
   "metadata": {
    "id": "Cd07OFzewNXm"
   },
   "outputs": [],
   "source": [
    "import os\n",
    "cur_dir = os.getcwd()\n",
    "data_dir = os.path.join(cur_dir, 'data')\n",
    "data_name = 'oqmd.csv'\n",
    "data_path = os.path.join(data_dir, data_name)\n",
    "df = pd.read_csv(data_path)"
   ]
  },
  {
   "cell_type": "code",
   "execution_count": null,
   "metadata": {
    "colab": {
     "base_uri": "https://localhost:8080/"
    },
    "id": "AALukFePwNXm",
    "outputId": "38115941-5b3e-4a38-c2ba-afc143d02697"
   },
   "outputs": [
    {
     "name": "stdout",
     "output_type": "stream",
     "text": [
      "-------------------------Data Info-------------------------\n",
      "    formula  energy_per_atom  formation_energy_per_atom  band_gap  \\\n",
      "0  ZrZnNiMo        -6.399036                   0.157939       0.0   \n",
      "1   DySc2Ir        -6.795189                  -0.266899       0.0   \n",
      "2       YZr        -7.445319                   0.060478       0.0   \n",
      "3   CrMoAu2        -6.218335                   0.504200       0.0   \n",
      "4      Ge3O        -4.382844                   0.215750       0.0   \n",
      "\n",
      "   magnetization_per_atom  \n",
      "0                0.452473  \n",
      "1                0.212367  \n",
      "2                0.002801  \n",
      "3                0.715628  \n",
      "4                0.000000  \n",
      "-------------------------Data Info-------------------------\n"
     ]
    }
   ],
   "source": [
    "print('-'*25 + 'Data Info' + '-'*25)\n",
    "print(df.head())\n",
    "print('-'*25 + 'Data Info' + '-'*25)"
   ]
  },
  {
   "cell_type": "code",
   "execution_count": null,
   "metadata": {
    "colab": {
     "base_uri": "https://localhost:8080/"
    },
    "id": "4Mx7Nc5kwNXn",
    "outputId": "5dd9952f-becd-4474-ad9e-0756bebe7b64"
   },
   "outputs": [
    {
     "name": "stdout",
     "output_type": "stream",
     "text": [
      "Data size: 561888\n"
     ]
    }
   ],
   "source": [
    "data_size = df.shape[0]\n",
    "print('Data size:', data_size)"
   ]
  },
  {
   "cell_type": "markdown",
   "metadata": {
    "id": "0bqHL2XBwlK_"
   },
   "source": [
    "# Fetch code from repo / Github"
   ]
  },
  {
   "cell_type": "code",
   "execution_count": null,
   "metadata": {
    "colab": {
     "base_uri": "https://localhost:8080/"
    },
    "id": "fwokDw_swqRf",
    "outputId": "381dde59-b8dd-4001-de9a-476c496acafe"
   },
   "outputs": [
    {
     "name": "stdout",
     "output_type": "stream",
     "text": [
      "fatal: destination path 'Chem_ML' already exists and is not an empty directory.\n"
     ]
    }
   ],
   "source": [
    "!git clone https://github.com/Eric-xin/Chem_ML.git"
   ]
  },
  {
   "cell_type": "code",
   "execution_count": null,
   "metadata": {
    "id": "fmxjFG8NwvGh"
   },
   "outputs": [],
   "source": [
    "# Copy codes to current directory\n",
    "!cp -r ./Chem_ML/generator ./\n",
    "!cp -r ./Chem_ML/data ./\n",
    "!cp -r ./Chem_ML/model ./"
   ]
  },
  {
   "cell_type": "code",
   "execution_count": null,
   "metadata": {},
   "outputs": [],
   "source": [
    "# Replace \"np.float\" to \"float\"\n",
    "!sed -i 's/np\\.float/float/g' ./data/utils/look_up_data.py"
   ]
  },
  {
   "cell_type": "markdown",
   "metadata": {
    "id": "VqOURTFrwNXn"
   },
   "source": [
    "## Initialize Attribute Generators"
   ]
  },
  {
   "cell_type": "code",
   "execution_count": null,
   "metadata": {
    "id": "IgNpSSNpwNXo"
   },
   "outputs": [],
   "source": [
    "# Process the data\n",
    "# Use the Stoichoimetric Attribute, Ionicity Attribute, Elemental Property Attribute, and Charge Dependent Attribute as features\n",
    "# Use bandgap, energy_pa, volume_pa, magmom_pa, fermi, hull_distance, and delta_e as targets\n",
    "\n",
    "from generator import *\n",
    "\n",
    "# Generate the features\n",
    "stoichiometric_generator = StoichiometricAttributeGenerator()\n",
    "ionicity_generator = IonicityAttributeGenerator()\n",
    "elemental_generator = ElementalPropertyAttributeGenerator()\n",
    "charge_generator = ChargeDependentAttributeGenerator()"
   ]
  },
  {
   "cell_type": "markdown",
   "metadata": {
    "id": "fLDau30zwNXo"
   },
   "source": [
    "## Prepare features and targets"
   ]
  },
  {
   "cell_type": "code",
   "execution_count": null,
   "metadata": {
    "colab": {
     "background_save": true,
     "base_uri": "https://localhost:8080/"
    },
    "id": "zKr0eAMqwNXo",
    "outputId": "7fcc1407-4f0f-42d0-ceb8-b77b37c9326d"
   },
   "outputs": [
    {
     "name": "stdout",
     "output_type": "stream",
     "text": [
      "-------------------------Dropped Rows-------------------------\n",
      "Dropped rows: 6\n",
      "-------------------------Dropped Rows-------------------------\n",
      "-------------------------Start: data processing-------------------------\n"
     ]
    },
    {
     "name": "stderr",
     "output_type": "stream",
     "text": [
      "Processing Formulas:   2%|▏         | 12528/561882 [01:34<55:21, 165.39it/s]WARNING: There are 1 elemental properties with missing values: \n",
      "\tElectronegativity: Ar\n",
      "Processing Formulas:   2%|▏         | 12563/561882 [01:34<54:24, 168.26it/s]"
     ]
    },
    {
     "name": "stdout",
     "output_type": "stream",
     "text": [
      "NaN values found in entry: Ar\n"
     ]
    },
    {
     "name": "stderr",
     "output_type": "stream",
     "text": [
      "Processing Formulas:   6%|▌         | 31643/561882 [03:49<54:17, 162.79it/s]WARNING: There are 2 elemental properties with missing values: \n",
      "\tMeltingT: He\n",
      "\tElectronegativity: He\n",
      "Processing Formulas:   6%|▌         | 31676/561882 [03:49<57:42, 153.14it/s]"
     ]
    },
    {
     "name": "stdout",
     "output_type": "stream",
     "text": [
      "NaN values found in entry: He\n"
     ]
    },
    {
     "name": "stderr",
     "output_type": "stream",
     "text": [
      "Processing Formulas:   7%|▋         | 36728/561882 [04:25<1:41:36, 86.14it/s]WARNING: There are 1 elemental properties with missing values: \n",
      "\tElectronegativity: Ne\n",
      "Processing Formulas:   7%|▋         | 36747/561882 [04:25<1:41:32, 86.20it/s]"
     ]
    },
    {
     "name": "stdout",
     "output_type": "stream",
     "text": [
      "NaN values found in entry: Ne\n"
     ]
    },
    {
     "name": "stderr",
     "output_type": "stream",
     "text": [
      "Processing Formulas:   8%|▊         | 47010/561882 [05:41<53:24, 160.65it/s]WARNING: There are 1 elemental properties with missing values: \n",
      "\tElectronegativity: Ar\n",
      "Processing Formulas:   8%|▊         | 47044/561882 [05:42<53:02, 161.80it/s]"
     ]
    },
    {
     "name": "stdout",
     "output_type": "stream",
     "text": [
      "NaN values found in entry: Ar\n"
     ]
    },
    {
     "name": "stderr",
     "output_type": "stream",
     "text": [
      "Processing Formulas:  10%|▉         | 55768/561882 [06:45<1:01:15, 137.70it/s]WARNING: There are 1 elemental properties with missing values: \n",
      "\tElectronegativity: Ar\n",
      "Processing Formulas:  10%|▉         | 55801/561882 [06:45<56:43, 148.71it/s]"
     ]
    },
    {
     "name": "stdout",
     "output_type": "stream",
     "text": [
      "NaN values found in entry: Ar\n"
     ]
    },
    {
     "name": "stderr",
     "output_type": "stream",
     "text": [
      "Processing Formulas:  10%|█         | 57032/561882 [06:53<55:59, 150.28it/s]WARNING: There are 1 elemental properties with missing values: \n",
      "\tElectronegativity: Ne\n",
      "Processing Formulas:  10%|█         | 57066/561882 [06:54<53:55, 156.00it/s]"
     ]
    },
    {
     "name": "stdout",
     "output_type": "stream",
     "text": [
      "NaN values found in entry: Ne\n"
     ]
    },
    {
     "name": "stderr",
     "output_type": "stream",
     "text": [
      "Processing Formulas:  10%|█         | 58237/561882 [07:03<59:17, 141.58it/s]WARNING: There are 1 elemental properties with missing values: \n",
      "\tElectronegativity: Ar\n",
      "Processing Formulas:  10%|█         | 58269/561882 [07:03<56:47, 147.81it/s]"
     ]
    },
    {
     "name": "stdout",
     "output_type": "stream",
     "text": [
      "NaN values found in entry: Ar\n"
     ]
    },
    {
     "name": "stderr",
     "output_type": "stream",
     "text": [
      "Processing Formulas:  13%|█▎        | 72033/561882 [08:44<49:46, 164.03it/s]WARNING: There are 2 elemental properties with missing values: \n",
      "\tMeltingT: He\n",
      "\tElectronegativity: He\n",
      "Processing Formulas:  13%|█▎        | 72066/561882 [08:44<51:36, 158.20it/s]"
     ]
    },
    {
     "name": "stdout",
     "output_type": "stream",
     "text": [
      "NaN values found in entry: He\n"
     ]
    },
    {
     "name": "stderr",
     "output_type": "stream",
     "text": [
      "Processing Formulas:  16%|█▌        | 87528/561882 [10:30<49:23, 160.08it/s]WARNING: There are 1 elemental properties with missing values: \n",
      "\tElectronegativity: Ne\n",
      "Processing Formulas:  16%|█▌        | 87562/561882 [10:30<49:29, 159.74it/s]"
     ]
    },
    {
     "name": "stdout",
     "output_type": "stream",
     "text": [
      "NaN values found in entry: Ne\n"
     ]
    },
    {
     "name": "stderr",
     "output_type": "stream",
     "text": [
      "Processing Formulas:  17%|█▋        | 95937/561882 [11:29<49:02, 158.38it/s]WARNING: There are 1 elemental properties with missing values: \n",
      "\tElectronegativity: Ar\n",
      "Processing Formulas:  17%|█▋        | 95970/561882 [11:29<49:05, 158.15it/s]"
     ]
    },
    {
     "name": "stdout",
     "output_type": "stream",
     "text": [
      "NaN values found in entry: Ar\n"
     ]
    },
    {
     "name": "stderr",
     "output_type": "stream",
     "text": [
      "Processing Formulas:  20%|██        | 113178/561882 [13:29<47:12, 158.43it/s]WARNING: There are 2 elemental properties with missing values: \n",
      "\tMeltingT: He\n",
      "\tElectronegativity: He\n",
      "Processing Formulas:  20%|██        | 113211/561882 [13:29<46:52, 159.55it/s]"
     ]
    },
    {
     "name": "stdout",
     "output_type": "stream",
     "text": [
      "NaN values found in entry: He\n"
     ]
    },
    {
     "name": "stderr",
     "output_type": "stream",
     "text": [
      "Processing Formulas:  21%|██▏       | 120383/561882 [14:18<43:30, 169.10it/s]WARNING: There are 1 elemental properties with missing values: \n",
      "\tElectronegativity: Ne\n",
      "Processing Formulas:  21%|██▏       | 120419/561882 [14:19<42:55, 171.43it/s]"
     ]
    },
    {
     "name": "stdout",
     "output_type": "stream",
     "text": [
      "NaN values found in entry: Ne\n"
     ]
    },
    {
     "name": "stderr",
     "output_type": "stream",
     "text": [
      "Processing Formulas:  23%|██▎       | 128055/561882 [15:10<1:11:30, 101.11it/s]WARNING: There are 1 elemental properties with missing values: \n",
      "\tElectronegativity: Ne\n",
      "Processing Formulas:  23%|██▎       | 128077/561882 [15:10<1:13:02, 98.98it/s]"
     ]
    },
    {
     "name": "stdout",
     "output_type": "stream",
     "text": [
      "NaN values found in entry: Ne\n"
     ]
    },
    {
     "name": "stderr",
     "output_type": "stream",
     "text": [
      "Processing Formulas:  25%|██▍       | 138684/561882 [16:24<43:26, 162.34it/s]WARNING: There are 1 elemental properties with missing values: \n",
      "\tElectronegativity: Ar\n",
      "Processing Formulas:  25%|██▍       | 138718/561882 [16:24<43:01, 163.94it/s]"
     ]
    },
    {
     "name": "stdout",
     "output_type": "stream",
     "text": [
      "NaN values found in entry: Ar\n"
     ]
    },
    {
     "name": "stderr",
     "output_type": "stream",
     "text": [
      "Processing Formulas:  25%|██▍       | 139978/561882 [16:33<45:15, 155.39it/s]WARNING: There are 2 elemental properties with missing values: \n",
      "\tMeltingT: He\n",
      "\tElectronegativity: He\n",
      "Processing Formulas:  25%|██▍       | 140011/561882 [16:33<45:10, 155.67it/s]"
     ]
    },
    {
     "name": "stdout",
     "output_type": "stream",
     "text": [
      "NaN values found in entry: He\n"
     ]
    },
    {
     "name": "stderr",
     "output_type": "stream",
     "text": [
      "Processing Formulas:  27%|██▋       | 152420/561882 [18:04<46:29, 146.77it/s]WARNING: There are 2 elemental properties with missing values: \n",
      "\tMeltingT: He\n",
      "\tElectronegativity: He\n",
      "Processing Formulas:  27%|██▋       | 152452/561882 [18:04<45:53, 148.72it/s]"
     ]
    },
    {
     "name": "stdout",
     "output_type": "stream",
     "text": [
      "NaN values found in entry: He\n"
     ]
    },
    {
     "name": "stderr",
     "output_type": "stream",
     "text": [
      "Processing Formulas:  36%|███▌      | 202082/561882 [23:56<52:19, 114.61it/s]WARNING: There are 2 elemental properties with missing values: \n",
      "\tMeltingT: He\n",
      "\tElectronegativity: He\n",
      "Processing Formulas:  36%|███▌      | 202094/561882 [23:56<54:13, 110.58it/s]"
     ]
    },
    {
     "name": "stdout",
     "output_type": "stream",
     "text": [
      "NaN values found in entry: He\n"
     ]
    },
    {
     "name": "stderr",
     "output_type": "stream",
     "text": [
      "Processing Formulas:  37%|███▋      | 210694/561882 [24:57<1:00:41, 96.44it/s]WARNING: There are 1 elemental properties with missing values: \n",
      "\tElectronegativity: Ar\n",
      "Processing Formulas:  38%|███▊      | 210716/561882 [24:57<58:45, 99.61it/s]  "
     ]
    },
    {
     "name": "stdout",
     "output_type": "stream",
     "text": [
      "NaN values found in entry: Ar\n"
     ]
    },
    {
     "name": "stderr",
     "output_type": "stream",
     "text": [
      "Processing Formulas:  39%|███▉      | 221767/561882 [26:14<32:51, 172.52it/s]WARNING: There are 1 elemental properties with missing values: \n",
      "\tElectronegativity: Ne\n",
      "Processing Formulas:  39%|███▉      | 221785/561882 [26:14<33:30, 169.20it/s]"
     ]
    },
    {
     "name": "stdout",
     "output_type": "stream",
     "text": [
      "NaN values found in entry: Ne\n"
     ]
    },
    {
     "name": "stderr",
     "output_type": "stream",
     "text": [
      "Processing Formulas:  43%|████▎     | 241457/561882 [28:32<34:25, 155.15it/s]WARNING: There are 1 elemental properties with missing values: \n",
      "\tElectronegativity: Ar\n",
      "Processing Formulas:  43%|████▎     | 241473/561882 [28:33<35:09, 151.86it/s]"
     ]
    },
    {
     "name": "stdout",
     "output_type": "stream",
     "text": [
      "NaN values found in entry: Ar\n"
     ]
    },
    {
     "name": "stderr",
     "output_type": "stream",
     "text": [
      "Processing Formulas:  44%|████▍     | 246439/561882 [29:09<34:25, 152.74it/s]WARNING: There are 1 elemental properties with missing values: \n",
      "\tElectronegativity: Ne\n",
      "Processing Formulas:  44%|████▍     | 246470/561882 [29:09<38:28, 136.65it/s]"
     ]
    },
    {
     "name": "stdout",
     "output_type": "stream",
     "text": [
      "NaN values found in entry: Ne\n"
     ]
    },
    {
     "name": "stderr",
     "output_type": "stream",
     "text": [
      "Processing Formulas:  45%|████▌     | 254969/561882 [30:10<34:00, 150.38it/s]WARNING: There are 1 elemental properties with missing values: \n",
      "\tElectronegativity: Ne\n",
      "Processing Formulas:  45%|████▌     | 255003/561882 [30:10<32:11, 158.87it/s]"
     ]
    },
    {
     "name": "stdout",
     "output_type": "stream",
     "text": [
      "NaN values found in entry: Ne\n"
     ]
    },
    {
     "name": "stderr",
     "output_type": "stream",
     "text": [
      "Processing Formulas:  49%|████▊     | 273607/561882 [32:23<31:27, 152.75it/s]WARNING: There are 1 elemental properties with missing values: \n",
      "\tElectronegativity: Ne\n",
      "Processing Formulas:  49%|████▊     | 273639/561882 [32:23<31:41, 151.55it/s]"
     ]
    },
    {
     "name": "stdout",
     "output_type": "stream",
     "text": [
      "NaN values found in entry: Ne\n"
     ]
    },
    {
     "name": "stderr",
     "output_type": "stream",
     "text": [
      "Processing Formulas:  52%|█████▏    | 289426/561882 [34:16<27:18, 166.31it/s]WARNING: There are 1 elemental properties with missing values: \n",
      "\tElectronegativity: Ar\n",
      "Processing Formulas:  52%|█████▏    | 289460/561882 [34:16<27:35, 164.58it/s]"
     ]
    },
    {
     "name": "stdout",
     "output_type": "stream",
     "text": [
      "NaN values found in entry: Ar\n"
     ]
    },
    {
     "name": "stderr",
     "output_type": "stream",
     "text": [
      "Processing Formulas:  52%|█████▏    | 289562/561882 [34:17<27:13, 166.71it/s]WARNING: There are 1 elemental properties with missing values: \n",
      "\tElectronegativity: Ar\n",
      "Processing Formulas:  52%|█████▏    | 289596/561882 [34:17<30:12, 150.25it/s]"
     ]
    },
    {
     "name": "stdout",
     "output_type": "stream",
     "text": [
      "NaN values found in entry: Ar\n"
     ]
    },
    {
     "name": "stderr",
     "output_type": "stream",
     "text": [
      "Processing Formulas:  52%|█████▏    | 292245/561882 [34:36<29:56, 150.11it/s]WARNING: There are 1 elemental properties with missing values: \n",
      "\tElectronegativity: Ar\n",
      "Processing Formulas:  52%|█████▏    | 292281/561882 [34:36<27:54, 160.98it/s]"
     ]
    },
    {
     "name": "stdout",
     "output_type": "stream",
     "text": [
      "NaN values found in entry: Ar\n"
     ]
    },
    {
     "name": "stderr",
     "output_type": "stream",
     "text": [
      "Processing Formulas:  52%|█████▏    | 292915/561882 [34:40<27:38, 162.20it/s]WARNING: There are 2 elemental properties with missing values: \n",
      "\tMeltingT: He\n",
      "\tElectronegativity: He\n",
      "Processing Formulas:  52%|█████▏    | 292949/561882 [34:40<27:11, 164.80it/s]"
     ]
    },
    {
     "name": "stdout",
     "output_type": "stream",
     "text": [
      "NaN values found in entry: He\n"
     ]
    },
    {
     "name": "stderr",
     "output_type": "stream",
     "text": [
      "Processing Formulas:  56%|█████▌    | 315803/561882 [37:19<25:11, 162.78it/s]WARNING: There are 2 elemental properties with missing values: \n",
      "\tMeltingT: He\n",
      "\tElectronegativity: He\n",
      "Processing Formulas:  56%|█████▌    | 315837/561882 [37:20<25:45, 159.25it/s]"
     ]
    },
    {
     "name": "stdout",
     "output_type": "stream",
     "text": [
      "NaN values found in entry: He\n"
     ]
    },
    {
     "name": "stderr",
     "output_type": "stream",
     "text": [
      "Processing Formulas:  58%|█████▊    | 325013/561882 [38:24<34:37, 114.00it/s]WARNING: There are 2 elemental properties with missing values: \n",
      "\tMeltingT: He\n",
      "\tElectronegativity: He\n",
      "Processing Formulas:  58%|█████▊    | 325047/561882 [38:24<28:47, 137.08it/s]"
     ]
    },
    {
     "name": "stdout",
     "output_type": "stream",
     "text": [
      "NaN values found in entry: He\n"
     ]
    },
    {
     "name": "stderr",
     "output_type": "stream",
     "text": [
      "Processing Formulas:  58%|█████▊    | 327493/561882 [38:41<25:16, 154.56it/s]WARNING: There are 1 elemental properties with missing values: \n",
      "\tElectronegativity: Ne\n",
      "Processing Formulas:  58%|█████▊    | 327527/561882 [38:42<24:19, 160.62it/s]"
     ]
    },
    {
     "name": "stdout",
     "output_type": "stream",
     "text": [
      "NaN values found in entry: Ne\n"
     ]
    },
    {
     "name": "stderr",
     "output_type": "stream",
     "text": [
      "Processing Formulas:  60%|█████▉    | 334979/561882 [39:36<24:15, 155.85it/s]WARNING: There are 2 elemental properties with missing values: \n",
      "\tMeltingT: He\n",
      "\tElectronegativity: He\n",
      "Processing Formulas:  60%|█████▉    | 335011/561882 [39:36<26:33, 142.41it/s]"
     ]
    },
    {
     "name": "stdout",
     "output_type": "stream",
     "text": [
      "NaN values found in entry: He\n"
     ]
    },
    {
     "name": "stderr",
     "output_type": "stream",
     "text": [
      "Processing Formulas:  63%|██████▎   | 352734/561882 [41:41<21:09, 164.73it/s]WARNING: There are 1 elemental properties with missing values: \n",
      "\tElectronegativity: Ar\n",
      "Processing Formulas:  63%|██████▎   | 352770/561882 [41:42<20:25, 170.66it/s]"
     ]
    },
    {
     "name": "stdout",
     "output_type": "stream",
     "text": [
      "NaN values found in entry: Ar\n"
     ]
    },
    {
     "name": "stderr",
     "output_type": "stream",
     "text": [
      "Processing Formulas:  63%|██████▎   | 354829/561882 [41:56<21:35, 159.79it/s]WARNING: There are 1 elemental properties with missing values: \n",
      "\tElectronegativity: Ne\n",
      "Processing Formulas:  63%|██████▎   | 354864/561882 [41:56<22:04, 156.27it/s]"
     ]
    },
    {
     "name": "stdout",
     "output_type": "stream",
     "text": [
      "NaN values found in entry: Ne\n"
     ]
    },
    {
     "name": "stderr",
     "output_type": "stream",
     "text": [
      "Processing Formulas:  65%|██████▌   | 365903/561882 [43:14<20:28, 159.48it/s]WARNING: There are 1 elemental properties with missing values: \n",
      "\tElectronegativity: Ar\n",
      "Processing Formulas:  65%|██████▌   | 365938/561882 [43:15<20:06, 162.43it/s]"
     ]
    },
    {
     "name": "stdout",
     "output_type": "stream",
     "text": [
      "NaN values found in entry: Ar\n"
     ]
    },
    {
     "name": "stderr",
     "output_type": "stream",
     "text": [
      "Processing Formulas:  69%|██████▊   | 385339/561882 [45:27<19:44, 149.07it/s]WARNING: There are 2 elemental properties with missing values: \n",
      "\tMeltingT: He\n",
      "\tElectronegativity: He\n",
      "Processing Formulas:  69%|██████▊   | 385371/561882 [45:27<19:47, 148.64it/s]"
     ]
    },
    {
     "name": "stdout",
     "output_type": "stream",
     "text": [
      "NaN values found in entry: He\n"
     ]
    },
    {
     "name": "stderr",
     "output_type": "stream",
     "text": [
      "Processing Formulas:  70%|██████▉   | 392754/561882 [46:18<25:59, 108.43it/s]WARNING: There are 2 elemental properties with missing values: \n",
      "\tMeltingT: He\n",
      "\tElectronegativity: He\n",
      "Processing Formulas:  70%|██████▉   | 392789/561882 [46:18<20:04, 140.38it/s]"
     ]
    },
    {
     "name": "stdout",
     "output_type": "stream",
     "text": [
      "NaN values found in entry: He\n"
     ]
    },
    {
     "name": "stderr",
     "output_type": "stream",
     "text": [
      "Processing Formulas:  70%|██████▉   | 392997/561882 [46:19<17:15, 163.05it/s]WARNING: There are 1 elemental properties with missing values: \n",
      "\tElectronegativity: Ne\n",
      "Processing Formulas:  70%|██████▉   | 393031/561882 [46:20<17:44, 158.63it/s]"
     ]
    },
    {
     "name": "stdout",
     "output_type": "stream",
     "text": [
      "NaN values found in entry: Ne\n"
     ]
    },
    {
     "name": "stderr",
     "output_type": "stream",
     "text": [
      "Processing Formulas:  74%|███████▎  | 414217/561882 [48:46<26:07, 94.20it/s]WARNING: There are 1 elemental properties with missing values: \n",
      "\tElectronegativity: Ar\n",
      "Processing Formulas:  74%|███████▎  | 414238/561882 [48:46<25:41, 95.77it/s]"
     ]
    },
    {
     "name": "stdout",
     "output_type": "stream",
     "text": [
      "NaN values found in entry: Ar\n"
     ]
    },
    {
     "name": "stderr",
     "output_type": "stream",
     "text": [
      "Processing Formulas:  76%|███████▌  | 428185/561882 [50:23<12:58, 171.72it/s]WARNING: There are 2 elemental properties with missing values: \n",
      "\tMeltingT: He\n",
      "\tElectronegativity: He\n",
      "Processing Formulas:  76%|███████▌  | 428203/561882 [50:23<13:11, 168.97it/s]"
     ]
    },
    {
     "name": "stdout",
     "output_type": "stream",
     "text": [
      "NaN values found in entry: He\n"
     ]
    },
    {
     "name": "stderr",
     "output_type": "stream",
     "text": [
      "Processing Formulas:  76%|███████▋  | 428705/561882 [50:26<13:20, 166.40it/s]WARNING: There are 1 elemental properties with missing values: \n",
      "\tElectronegativity: Ar\n",
      "Processing Formulas:  76%|███████▋  | 428739/561882 [50:26<13:56, 159.10it/s]"
     ]
    },
    {
     "name": "stdout",
     "output_type": "stream",
     "text": [
      "NaN values found in entry: Ar\n"
     ]
    },
    {
     "name": "stderr",
     "output_type": "stream",
     "text": [
      "Processing Formulas:  78%|███████▊  | 438520/561882 [51:34<13:48, 148.91it/s]WARNING: There are 1 elemental properties with missing values: \n",
      "\tElectronegativity: Ne\n",
      "Processing Formulas:  78%|███████▊  | 438550/561882 [51:34<14:09, 145.13it/s]"
     ]
    },
    {
     "name": "stdout",
     "output_type": "stream",
     "text": [
      "NaN values found in entry: Ne\n"
     ]
    },
    {
     "name": "stderr",
     "output_type": "stream",
     "text": [
      "Processing Formulas:  79%|███████▉  | 442925/561882 [52:04<11:56, 166.14it/s]WARNING: There are 1 elemental properties with missing values: \n",
      "\tElectronegativity: Ne\n",
      "Processing Formulas:  79%|███████▉  | 442959/561882 [52:04<12:54, 153.56it/s]"
     ]
    },
    {
     "name": "stdout",
     "output_type": "stream",
     "text": [
      "NaN values found in entry: Ne\n"
     ]
    },
    {
     "name": "stderr",
     "output_type": "stream",
     "text": [
      "Processing Formulas:  80%|████████  | 451871/561882 [53:09<11:37, 157.81it/s]WARNING: There are 1 elemental properties with missing values: \n",
      "\tElectronegativity: Ar\n",
      "Processing Formulas:  80%|████████  | 451903/561882 [53:09<12:26, 147.34it/s]"
     ]
    },
    {
     "name": "stdout",
     "output_type": "stream",
     "text": [
      "NaN values found in entry: Ar\n"
     ]
    },
    {
     "name": "stderr",
     "output_type": "stream",
     "text": [
      "Processing Formulas:  82%|████████▏ | 461249/561882 [54:17<10:03, 166.62it/s]WARNING: There are 1 elemental properties with missing values: \n",
      "\tElectronegativity: Ar\n",
      "Processing Formulas:  82%|████████▏ | 461283/561882 [54:18<10:04, 166.47it/s]"
     ]
    },
    {
     "name": "stdout",
     "output_type": "stream",
     "text": [
      "NaN values found in entry: Ar\n"
     ]
    },
    {
     "name": "stderr",
     "output_type": "stream",
     "text": [
      "Processing Formulas:  86%|████████▌ | 484452/561882 [56:51<12:27, 103.57it/s]WARNING: There are 1 elemental properties with missing values: \n",
      "\tElectronegativity: Ne\n",
      "Processing Formulas:  86%|████████▌ | 484484/561882 [56:51<10:00, 128.99it/s]"
     ]
    },
    {
     "name": "stdout",
     "output_type": "stream",
     "text": [
      "NaN values found in entry: Ne\n"
     ]
    },
    {
     "name": "stderr",
     "output_type": "stream",
     "text": [
      "Processing Formulas:  88%|████████▊ | 497075/561882 [58:13<06:20, 170.42it/s]WARNING: There are 2 elemental properties with missing values: \n",
      "\tMeltingT: He\n",
      "\tElectronegativity: He\n",
      "Processing Formulas:  88%|████████▊ | 497093/561882 [58:13<06:30, 166.05it/s]"
     ]
    },
    {
     "name": "stdout",
     "output_type": "stream",
     "text": [
      "NaN values found in entry: He\n"
     ]
    },
    {
     "name": "stderr",
     "output_type": "stream",
     "text": [
      "Processing Formulas:  89%|████████▊ | 497726/561882 [58:17<06:36, 161.66it/s]WARNING: There are 1 elemental properties with missing values: \n",
      "\tElectronegativity: Ne\n",
      "Processing Formulas:  89%|████████▊ | 497761/561882 [58:17<06:34, 162.59it/s]"
     ]
    },
    {
     "name": "stdout",
     "output_type": "stream",
     "text": [
      "NaN values found in entry: Ne\n"
     ]
    },
    {
     "name": "stderr",
     "output_type": "stream",
     "text": [
      "Processing Formulas:  90%|████████▉ | 503878/561882 [58:57<05:32, 174.39it/s]WARNING: There are 1 elemental properties with missing values: \n",
      "\tElectronegativity: Ne\n",
      "Processing Formulas:  90%|████████▉ | 503914/561882 [58:57<05:32, 174.19it/s]"
     ]
    },
    {
     "name": "stdout",
     "output_type": "stream",
     "text": [
      "NaN values found in entry: Ne\n"
     ]
    },
    {
     "name": "stderr",
     "output_type": "stream",
     "text": [
      "Processing Formulas:  91%|█████████ | 509123/561882 [59:31<05:10, 170.05it/s]WARNING: There are 1 elemental properties with missing values: \n",
      "\tElectronegativity: Ar\n",
      "Processing Formulas:  91%|█████████ | 509159/561882 [59:31<05:19, 164.79it/s]"
     ]
    },
    {
     "name": "stdout",
     "output_type": "stream",
     "text": [
      "NaN values found in entry: Ar\n"
     ]
    },
    {
     "name": "stderr",
     "output_type": "stream",
     "text": [
      "Processing Formulas:  91%|█████████ | 510657/561882 [59:40<07:27, 114.48it/s]WARNING: There are 2 elemental properties with missing values: \n",
      "\tMeltingT: He\n",
      "\tElectronegativity: He\n",
      "Processing Formulas:  91%|█████████ | 510681/561882 [59:41<07:45, 109.95it/s]"
     ]
    },
    {
     "name": "stdout",
     "output_type": "stream",
     "text": [
      "NaN values found in entry: He\n"
     ]
    },
    {
     "name": "stderr",
     "output_type": "stream",
     "text": [
      "Processing Formulas:  93%|█████████▎| 521029/561882 [1:00:47<06:23, 106.46it/s]WARNING: There are 2 elemental properties with missing values: \n",
      "\tMeltingT: He\n",
      "\tElectronegativity: He\n",
      "Processing Formulas:  93%|█████████▎| 521053/561882 [1:00:48<06:09, 110.52it/s]"
     ]
    },
    {
     "name": "stdout",
     "output_type": "stream",
     "text": [
      "NaN values found in entry: He\n"
     ]
    },
    {
     "name": "stderr",
     "output_type": "stream",
     "text": [
      "Processing Formulas: 100%|██████████| 561882/561882 [1:05:26<00:00, 143.09it/s]\n"
     ]
    },
    {
     "name": "stdout",
     "output_type": "stream",
     "text": [
      "-------------------------Completed: data processing-------------------------\n"
     ]
    }
   ],
   "source": [
    "from data.utils import CompositionEntry\n",
    "from tqdm import tqdm\n",
    "\n",
    "# Filter out rows where 'formula' is NaN\n",
    "df_filtered = df.dropna(subset=['formula'])\n",
    "\n",
    "# Print dropped rows\n",
    "dropped_rows = data_size - df_filtered.shape[0]\n",
    "print('-'*25 + 'Dropped Rows' + '-'*25)\n",
    "print('Dropped rows:', dropped_rows)\n",
    "print('-'*25 + 'Dropped Rows' + '-'*25)\n",
    "\n",
    "print('-'*25 + 'Start: data processing' + '-'*25)\n",
    "features = []\n",
    "targets = []\n",
    "for i in tqdm(range(len(df_filtered)), desc=\"Processing Formulas\"):\n",
    "    formula = df_filtered.iloc[i]['formula']\n",
    "    if formula is float:\n",
    "        continue\n",
    "    entry = CompositionEntry(formula)\n",
    "    stoichiometric = np.array(stoichiometric_generator.generate_features([entry])).flatten()\n",
    "    ionicity = np.array(ionicity_generator.generate_features([entry])).flatten()\n",
    "    elemental = np.array(elemental_generator.generate_features([entry])).flatten()\n",
    "    # charge = np.array(charge_generator.generate_features([entry])).flatten()\n",
    "\n",
    "    # filter all the nan values, if there is any, skip this entry\n",
    "    if np.isnan(stoichiometric).any() or np.isnan(ionicity).any() or np.isnan(elemental).any():\n",
    "        print('NaN values found in entry:', formula)\n",
    "        continue\n",
    "\n",
    "    # feature = np.concatenate([stoichiometric, ionicity, elemental, charge])\n",
    "    feature = np.concatenate([stoichiometric, ionicity, elemental])\n",
    "    targets.append(df_filtered.iloc[i][['energy_per_atom', 'formation_energy_per_atom', 'magnetization_per_atom']].values)\n",
    "    features.append(feature)\n",
    "\n",
    "print('-'*25 + 'Completed: data processing' + '-'*25)\n",
    "features = np.array(features)\n",
    "targets = np.array(targets)\n"
   ]
  },
  {
   "cell_type": "code",
   "execution_count": null,
   "metadata": {
    "colab": {
     "background_save": true
    },
    "id": "SvMKqbltwNXo"
   },
   "outputs": [],
   "source": [
    "# from data.utils import CompositionEntry\n",
    "# import numpy as np\n",
    "# import pandas as pd\n",
    "# # from concurrent.futures import ProcessPoolExecutor\n",
    "# from concurrent.futures import ThreadPoolExecutor\n",
    "# from tqdm import tqdm\n",
    "\n",
    "# def generate_features_for_formula(formula):\n",
    "#     if isinstance(formula, float):\n",
    "#         return None\n",
    "#     entry = CompositionEntry(formula)\n",
    "#     stoichiometric = np.array(stoichiometric_generator.generate_features([entry])).flatten()\n",
    "#     ionicity = np.array(ionicity_generator.generate_features([entry])).flatten()\n",
    "#     elemental = np.array(elemental_generator.generate_features([entry])).flatten()\n",
    "#     # charge = np.array(charge_generator.generate_features([entry])).flatten()\n",
    "\n",
    "#     # filter all the nan values, if there is any, skip this entry\n",
    "#     if np.isnan(stoichiometric).any() or np.isnan(ionicity).any() or np.isnan(elemental).any():\n",
    "#         return None\n",
    "\n",
    "#     # feature = np.concatenate([stoichiometric, ionicity, elemental, charge])\n",
    "#     feature = np.concatenate([stoichiometric, ionicity, elemental])\n",
    "#     return feature\n",
    "\n",
    "# # Filter out rows where 'formula' is NaN\n",
    "# df_filtered = df.dropna(subset=['formula'])\n",
    "\n",
    "# # Print dropped rows\n",
    "# dropped_rows = data_size - df_filtered.shape[0]\n",
    "# print('-'*25 + 'Dropped Rows' + '-'*25)\n",
    "# print('Dropped rows:', dropped_rows)\n",
    "# print('-'*25 + 'Dropped Rows' + '-'*25)\n",
    "\n",
    "# # Use ThreadPoolExecutor for parallel processing\n",
    "# formulas = df_filtered['formula'].tolist()\n",
    "\n",
    "# with ThreadPoolExecutor() as executor:\n",
    "#     features = list(tqdm(executor.map(generate_features_for_formula, formulas), total=len(formulas)))\n",
    "\n",
    "# # Filter out None values\n",
    "# features = [f for f in features if f is not None]\n",
    "\n",
    "# features = np.array(features)"
   ]
  },
  {
   "cell_type": "code",
   "execution_count": null,
   "metadata": {
    "colab": {
     "background_save": true,
     "base_uri": "https://localhost:8080/"
    },
    "id": "fJ0FTnqxwNXp",
    "outputId": "7ad2a0dd-e6ec-4440-aa36-8fce94c50b55"
   },
   "outputs": [
    {
     "name": "stdout",
     "output_type": "stream",
     "text": [
      "-------------------------Features-------------------------\n",
      "shape of features: (561831, 141)\n",
      "[3.00000000e+00 6.12372436e-01 5.38608673e-01 5.06099365e-01\n",
      " 5.01108669e-01 5.00097571e-01 0.00000000e+00 2.13450798e-01\n",
      " 6.83327026e-02 4.62500000e+01 5.60000000e+01 2.52500000e+01\n",
      " 7.70000000e+01 2.10000000e+01 2.10000000e+01 2.82500000e+01\n",
      " 4.90000000e+01 1.72500000e+01 6.00000000e+01 1.10000000e+01\n",
      " 1.10000000e+01 1.11157206e+02 1.47261088e+02 6.62012940e+01\n",
      " 1.92217000e+02 4.49559120e+01 4.49559120e+01 2.01300000e+03\n",
      " 1.05400000e+03 3.63000000e+02 2.73900000e+03 1.68500000e+03\n",
      " 1.81400000e+03 4.50000000e+00 6.00000000e+00 2.25000000e+00\n",
      " 9.00000000e+00 3.00000000e+00 3.00000000e+00 5.00000000e+00\n",
      " 2.00000000e+00 1.00000000e+00 6.00000000e+00 4.00000000e+00\n",
      " 4.00000000e+00 1.68250000e+02 5.10000000e+01 1.36250000e+01\n",
      " 1.92000000e+02 1.41000000e+02 1.70000000e+02 1.53500000e+00\n",
      " 9.80000000e-01 3.32500000e-01 2.20000000e+00 1.22000000e+00\n",
      " 1.36000000e+00 2.00000000e+00 0.00000000e+00 0.00000000e+00\n",
      " 2.00000000e+00 2.00000000e+00 2.00000000e+00 0.00000000e+00\n",
      " 0.00000000e+00 0.00000000e+00 0.00000000e+00 0.00000000e+00\n",
      " 0.00000000e+00 2.25000000e+00 7.00000000e+00 2.37500000e+00\n",
      " 7.00000000e+00 0.00000000e+00 1.00000000e+00 6.00000000e+00\n",
      " 1.40000000e+01 6.00000000e+00 1.40000000e+01 0.00000000e+00\n",
      " 0.00000000e+00 1.02500000e+01 2.00000000e+01 7.25000000e+00\n",
      " 2.30000000e+01 3.00000000e+00 3.00000000e+00 0.00000000e+00\n",
      " 0.00000000e+00 0.00000000e+00 0.00000000e+00 0.00000000e+00\n",
      " 0.00000000e+00 0.00000000e+00 0.00000000e+00 0.00000000e+00\n",
      " 0.00000000e+00 0.00000000e+00 0.00000000e+00 5.25000000e+00\n",
      " 9.00000000e+00 3.75000000e+00 9.00000000e+00 0.00000000e+00\n",
      " 9.00000000e+00 1.00000000e+00 4.00000000e+00 1.50000000e+00\n",
      " 4.00000000e+00 0.00000000e+00 0.00000000e+00 6.25000000e+00\n",
      " 6.00000000e+00 2.75000000e+00 9.00000000e+00 3.00000000e+00\n",
      " 9.00000000e+00 2.24800000e+01 1.70300000e+01 4.38000000e+00\n",
      " 3.12400000e+01 1.42100000e+01 2.22350000e+01 0.00000000e+00\n",
      " 0.00000000e+00 0.00000000e+00 0.00000000e+00 0.00000000e+00\n",
      " 0.00000000e+00 3.17500000e-06 6.35000000e-06 3.17500000e-06\n",
      " 6.35000000e-06 0.00000000e+00 6.35000000e-06 2.01750000e+02\n",
      " 3.10000000e+01 1.16250000e+01 2.25000000e+02 1.94000000e+02\n",
      " 1.94000000e+02]\n",
      "-------------------------Features-------------------------\n"
     ]
    }
   ],
   "source": [
    "print('-'*25 + 'Features' + '-'*25)\n",
    "print(\"shape of features:\", features.shape)\n",
    "print(features[1])\n",
    "print('-'*25 + 'Features' + '-'*25)"
   ]
  },
  {
   "cell_type": "code",
   "execution_count": null,
   "metadata": {
    "colab": {
     "background_save": true,
     "base_uri": "https://localhost:8080/"
    },
    "id": "vpeFdKfjwNXp",
    "outputId": "16effb91-b4f9-427e-b88f-2b638b5c9422"
   },
   "outputs": [
    {
     "name": "stdout",
     "output_type": "stream",
     "text": [
      "-------------------------Targets-------------------------\n",
      "shape of features: (561831, 3)\n",
      "[-6.795188535 -0.266899046666668 0.21236685]\n",
      "-------------------------Targets-------------------------\n"
     ]
    }
   ],
   "source": [
    "print('-'*25 + 'Targets' + '-'*25)\n",
    "print(\"shape of features:\", targets.shape)\n",
    "print(targets[1])\n",
    "print('-'*25 + 'Targets' + '-'*25)"
   ]
  },
  {
   "cell_type": "code",
   "execution_count": null,
   "metadata": {
    "colab": {
     "background_save": true,
     "base_uri": "https://localhost:8080/"
    },
    "id": "rcMiLukywNXp",
    "outputId": "b10e783f-9261-4480-c0ac-5179028f33d2"
   },
   "outputs": [
    {
     "name": "stdout",
     "output_type": "stream",
     "text": [
      "-------------------------Saving Data-------------------------\n",
      "-------------------------Data Saved-------------------------\n"
     ]
    }
   ],
   "source": [
    "cur_dir = os.getcwd()\n",
    "save_dir = os.path.join(cur_dir, 'data/datasets')\n",
    "print('-'*25 + 'Saving Data' + '-'*25)\n",
    "np.save(os.path.join(save_dir, 'features_OQMD_full.npy'), features)\n",
    "np.save(os.path.join(save_dir, 'targets_OQMD_full.npy'), targets)\n",
    "print('-'*25 + 'Data Saved' + '-'*25)"
   ]
  },
  {
   "cell_type": "code",
   "execution_count": null,
   "metadata": {
    "colab": {
     "background_save": true
    },
    "id": "_-piwf5qwNXp",
    "outputId": "16340f35-7038-4062-c3e8-ce2d3c14b0d3"
   },
   "outputs": [
    {
     "name": "stdout",
     "output_type": "stream",
     "text": [
      "-------------------------datasets information-------------------------\n",
      "torch.Size([449464, 141]) torch.Size([449464, 3])\n",
      "torch.Size([112367, 141]) torch.Size([112367, 3])\n",
      "tensor([4.0000e+00, 5.0000e-01, 3.9685e-01, 3.2988e-01, 3.0475e-01, 2.8717e-01,\n",
      "        0.0000e+00, 9.4461e-02, 2.7165e-02, 4.5750e+01, 5.2000e+01, 1.7750e+01,\n",
      "        7.8000e+01, 2.6000e+01, 4.5750e+01, 6.5500e+01, 2.0000e+01, 6.5000e+00,\n",
      "        7.5000e+01, 5.5000e+01, 6.5500e+01, 1.0778e+02, 1.3924e+02, 4.7169e+01,\n",
      "        1.9508e+02, 5.5845e+01, 1.0778e+02, 1.2437e+03, 1.6117e+03, 6.8249e+02,\n",
      "        2.0414e+03, 4.2975e+02, 1.2437e+03, 1.0750e+01, 5.0000e+00, 1.7500e+00,\n",
      "        1.3000e+01, 8.0000e+00, 1.0750e+01, 4.7500e+00, 2.0000e+00, 7.5000e-01,\n",
      "        6.0000e+00, 4.0000e+00, 4.7500e+00, 1.3300e+02, 2.0000e+01, 6.0000e+00,\n",
      "        1.4200e+02, 1.2200e+02, 1.3300e+02, 1.8850e+00, 6.3000e-01, 1.9750e-01,\n",
      "        2.2800e+00, 1.6500e+00, 1.8850e+00, 1.7500e+00, 1.0000e+00, 3.7500e-01,\n",
      "        2.0000e+00, 1.0000e+00, 1.7500e+00, 2.5000e-01, 1.0000e+00, 3.7500e-01,\n",
      "        1.0000e+00, 0.0000e+00, 2.5000e-01, 8.7500e+00, 4.0000e+00, 1.3750e+00,\n",
      "        1.0000e+01, 6.0000e+00, 8.7500e+00, 3.5000e+00, 1.4000e+01, 5.2500e+00,\n",
      "        1.4000e+01, 0.0000e+00, 3.5000e+00, 1.4250e+01, 1.6000e+01, 4.8750e+00,\n",
      "        2.4000e+01, 8.0000e+00, 1.4250e+01, 2.5000e-01, 1.0000e+00, 3.7500e-01,\n",
      "        1.0000e+00, 0.0000e+00, 2.5000e-01, 1.2500e+00, 5.0000e+00, 1.8750e+00,\n",
      "        5.0000e+00, 0.0000e+00, 1.2500e+00, 1.2500e+00, 4.0000e+00, 1.3750e+00,\n",
      "        4.0000e+00, 0.0000e+00, 1.2500e+00, 0.0000e+00, 0.0000e+00, 0.0000e+00,\n",
      "        0.0000e+00, 0.0000e+00, 0.0000e+00, 2.7500e+00, 5.0000e+00, 1.7500e+00,\n",
      "        5.0000e+00, 0.0000e+00, 2.7500e+00, 1.5993e+01, 1.3530e+01, 4.1337e+00,\n",
      "        2.4260e+01, 1.0730e+01, 1.5993e+01, 0.0000e+00, 0.0000e+00, 0.0000e+00,\n",
      "        0.0000e+00, 0.0000e+00, 0.0000e+00, 5.2767e-01, 2.1107e+00, 7.9150e-01,\n",
      "        2.1107e+00, 0.0000e+00, 5.2767e-01, 1.9675e+02, 9.0000e+01, 3.0250e+01,\n",
      "        2.2900e+02, 1.3900e+02, 1.9675e+02])\n",
      "tensor([-4.6299, -0.0425,  0.6940])\n",
      "-------------------------datasets information-------------------------\n"
     ]
    }
   ],
   "source": [
    "import random\n",
    "\n",
    "# Convert features and targets to PyTorch tensors\n",
    "features = torch.tensor(features, dtype=torch.float32)\n",
    "targets = torch.tensor(targets.astype(np.float32), dtype=torch.float32)\n",
    "\n",
    "# random_seed = random.randint(0, 1000)\n",
    "random_seed = 1024\n",
    "\n",
    "# Split the data into training and testing sets\n",
    "X_train, X_test, y_train, y_test = train_test_split(features, targets, test_size=0.2, random_state=random_seed)\n",
    "\n",
    "print('-'*25 + 'datasets information' + '-'*25)\n",
    "print(X_train.shape, y_train.shape)\n",
    "print(X_test.shape, y_test.shape)\n",
    "\n",
    "print(X_train[0])\n",
    "print(y_train[0])\n",
    "print('-'*25 + 'datasets information' + '-'*25)"
   ]
  },
  {
   "cell_type": "code",
   "execution_count": null,
   "metadata": {
    "colab": {
     "background_save": true
    },
    "id": "EGEiBRV2wNXp"
   },
   "outputs": [],
   "source": [
    "# # Define the neural network architecture\n",
    "# class Net(nn.Module):\n",
    "#     def __init__(self):\n",
    "#         super(Net, self).__init__()\n",
    "#         self.fc1 = nn.Linear(X_train.shape[1], 128)\n",
    "#         self.fc2 = nn.Linear(128, 64)\n",
    "#         self.fc3 = nn.Linear(64, 32)\n",
    "#         self.fc4 = nn.Linear(32, y_train.shape[1])\n",
    "\n",
    "#     def forward(self, x):\n",
    "#         x = torch.relu(self.fc1(x))\n",
    "#         x = torch.relu(self.fc2(x))\n",
    "#         x = torch.relu(self.fc3(x))\n",
    "#         x = self.fc4(x)\n",
    "#         return x"
   ]
  },
  {
   "cell_type": "code",
   "execution_count": null,
   "metadata": {
    "colab": {
     "background_save": true
    },
    "id": "NsyYJ49ewNXq"
   },
   "outputs": [],
   "source": [
    "# from model.simple_model import Net\n",
    "from model.simple_model_revised import Net\n",
    "# from model.simple_model_residue import Net\n",
    "# from model.model import Net\n",
    "# from model.residue import Net"
   ]
  },
  {
   "cell_type": "code",
   "execution_count": null,
   "metadata": {
    "colab": {
     "background_save": true
    },
    "id": "4Ldr5Ne9wNXq"
   },
   "outputs": [],
   "source": [
    "# from tqdm import tqdm\n",
    "# import matplotlib.pyplot as plt\n",
    "\n",
    "# # Note this is the deprecated code\n",
    "\n",
    "# # Initialize the model, loss function, and optimizer\n",
    "# input_dim = X_train.shape[1]\n",
    "# output_dim = y_train.shape[1]\n",
    "# print(\"input dim {}, output dim {}\".format(input_dim, output_dim))\n",
    "# model = Net(input_dim, output_dim)\n",
    "# criterion = nn.MSELoss()\n",
    "# optimizer = optim.Adam(model.parameters(), lr=0.001)\n",
    "\n",
    "# # Train the model\n",
    "# num_epochs = 1000\n",
    "# losses = []\n",
    "# for epoch in tqdm(range(num_epochs), desc=\"Training Epochs\"):\n",
    "#     model.train()\n",
    "#     optimizer.zero_grad()\n",
    "#     outputs = model(X_train)\n",
    "#     loss = criterion(outputs, y_train)\n",
    "#     loss.backward()\n",
    "#     optimizer.step()\n",
    "\n",
    "#     losses.append(loss.item())\n",
    "\n",
    "# # Evaluate the model\n",
    "# model.eval()\n",
    "# with torch.no_grad():\n",
    "#     predictions = model(X_test)\n",
    "#     mse = criterion(predictions, y_test).item()\n",
    "#     print(f'Mean Squared Error: {mse}')\n",
    "\n",
    "# # Save the trained model\n",
    "# torch.save(model.state_dict(), cur_dir + '/model/' + 'OQMD_100k_model')\n",
    "\n",
    "# # Plot the loss curve\n",
    "# plt.figure(figsize=(10, 5))\n",
    "# plt.plot(range(num_epochs), losses, label='Training Loss')\n",
    "# plt.xlabel('Epoch')\n",
    "# plt.ylabel('Loss')\n",
    "# plt.title('Training Loss Curve')\n",
    "# plt.legend()\n",
    "# plt.show()\n"
   ]
  },
  {
   "cell_type": "code",
   "execution_count": 17,
   "metadata": {
    "colab": {
     "base_uri": "https://localhost:8080/",
     "height": 435
    },
    "id": "RDVhwpuowNXq",
    "outputId": "e6899d5b-84cb-47c0-905d-c2b86c2a014d"
   },
   "outputs": [
    {
     "name": "stdout",
     "output_type": "stream",
     "text": [
      "Using device: cpu\n",
      "input dim 141, output dim 3\n"
     ]
    },
    {
     "name": "stderr",
     "output_type": "stream",
     "text": [
      "Training Epochs:   2%|▏         | 20/1000 [03:49<3:07:24, 11.47s/it]\n"
     ]
    },
    {
     "ename": "KeyboardInterrupt",
     "evalue": "",
     "output_type": "error",
     "traceback": [
      "\u001b[0;31m---------------------------------------------------------------------------\u001b[0m",
      "\u001b[0;31mKeyboardInterrupt\u001b[0m                         Traceback (most recent call last)",
      "\u001b[0;32m<ipython-input-17-67dccbd2e261>\u001b[0m in \u001b[0;36m<cell line: 22>\u001b[0;34m()\u001b[0m\n\u001b[1;32m     25\u001b[0m     \u001b[0moutputs\u001b[0m \u001b[0;34m=\u001b[0m \u001b[0mmodel\u001b[0m\u001b[0;34m(\u001b[0m\u001b[0mX_train\u001b[0m\u001b[0;34m)\u001b[0m\u001b[0;34m\u001b[0m\u001b[0;34m\u001b[0m\u001b[0m\n\u001b[1;32m     26\u001b[0m     \u001b[0mloss\u001b[0m \u001b[0;34m=\u001b[0m \u001b[0mcriterion\u001b[0m\u001b[0;34m(\u001b[0m\u001b[0moutputs\u001b[0m\u001b[0;34m,\u001b[0m \u001b[0my_train\u001b[0m\u001b[0;34m)\u001b[0m\u001b[0;34m\u001b[0m\u001b[0;34m\u001b[0m\u001b[0m\n\u001b[0;32m---> 27\u001b[0;31m     \u001b[0mloss\u001b[0m\u001b[0;34m.\u001b[0m\u001b[0mbackward\u001b[0m\u001b[0;34m(\u001b[0m\u001b[0;34m)\u001b[0m\u001b[0;34m\u001b[0m\u001b[0;34m\u001b[0m\u001b[0m\n\u001b[0m\u001b[1;32m     28\u001b[0m     \u001b[0moptimizer\u001b[0m\u001b[0;34m.\u001b[0m\u001b[0mstep\u001b[0m\u001b[0;34m(\u001b[0m\u001b[0;34m)\u001b[0m\u001b[0;34m\u001b[0m\u001b[0;34m\u001b[0m\u001b[0m\n\u001b[1;32m     29\u001b[0m \u001b[0;34m\u001b[0m\u001b[0m\n",
      "\u001b[0;32m/usr/local/lib/python3.10/dist-packages/torch/_tensor.py\u001b[0m in \u001b[0;36mbackward\u001b[0;34m(self, gradient, retain_graph, create_graph, inputs)\u001b[0m\n\u001b[1;32m    579\u001b[0m                 \u001b[0minputs\u001b[0m\u001b[0;34m=\u001b[0m\u001b[0minputs\u001b[0m\u001b[0;34m,\u001b[0m\u001b[0;34m\u001b[0m\u001b[0;34m\u001b[0m\u001b[0m\n\u001b[1;32m    580\u001b[0m             )\n\u001b[0;32m--> 581\u001b[0;31m         torch.autograd.backward(\n\u001b[0m\u001b[1;32m    582\u001b[0m             \u001b[0mself\u001b[0m\u001b[0;34m,\u001b[0m \u001b[0mgradient\u001b[0m\u001b[0;34m,\u001b[0m \u001b[0mretain_graph\u001b[0m\u001b[0;34m,\u001b[0m \u001b[0mcreate_graph\u001b[0m\u001b[0;34m,\u001b[0m \u001b[0minputs\u001b[0m\u001b[0;34m=\u001b[0m\u001b[0minputs\u001b[0m\u001b[0;34m\u001b[0m\u001b[0;34m\u001b[0m\u001b[0m\n\u001b[1;32m    583\u001b[0m         )\n",
      "\u001b[0;32m/usr/local/lib/python3.10/dist-packages/torch/autograd/__init__.py\u001b[0m in \u001b[0;36mbackward\u001b[0;34m(tensors, grad_tensors, retain_graph, create_graph, grad_variables, inputs)\u001b[0m\n\u001b[1;32m    345\u001b[0m     \u001b[0;31m# some Python versions print out the first line of a multi-line function\u001b[0m\u001b[0;34m\u001b[0m\u001b[0;34m\u001b[0m\u001b[0m\n\u001b[1;32m    346\u001b[0m     \u001b[0;31m# calls in the traceback and some print out the last line\u001b[0m\u001b[0;34m\u001b[0m\u001b[0;34m\u001b[0m\u001b[0m\n\u001b[0;32m--> 347\u001b[0;31m     _engine_run_backward(\n\u001b[0m\u001b[1;32m    348\u001b[0m         \u001b[0mtensors\u001b[0m\u001b[0;34m,\u001b[0m\u001b[0;34m\u001b[0m\u001b[0;34m\u001b[0m\u001b[0m\n\u001b[1;32m    349\u001b[0m         \u001b[0mgrad_tensors_\u001b[0m\u001b[0;34m,\u001b[0m\u001b[0;34m\u001b[0m\u001b[0;34m\u001b[0m\u001b[0m\n",
      "\u001b[0;32m/usr/local/lib/python3.10/dist-packages/torch/autograd/graph.py\u001b[0m in \u001b[0;36m_engine_run_backward\u001b[0;34m(t_outputs, *args, **kwargs)\u001b[0m\n\u001b[1;32m    823\u001b[0m         \u001b[0munregister_hooks\u001b[0m \u001b[0;34m=\u001b[0m \u001b[0m_register_logging_hooks_on_whole_graph\u001b[0m\u001b[0;34m(\u001b[0m\u001b[0mt_outputs\u001b[0m\u001b[0;34m)\u001b[0m\u001b[0;34m\u001b[0m\u001b[0;34m\u001b[0m\u001b[0m\n\u001b[1;32m    824\u001b[0m     \u001b[0;32mtry\u001b[0m\u001b[0;34m:\u001b[0m\u001b[0;34m\u001b[0m\u001b[0;34m\u001b[0m\u001b[0m\n\u001b[0;32m--> 825\u001b[0;31m         return Variable._execution_engine.run_backward(  # Calls into the C++ engine to run the backward pass\n\u001b[0m\u001b[1;32m    826\u001b[0m             \u001b[0mt_outputs\u001b[0m\u001b[0;34m,\u001b[0m \u001b[0;34m*\u001b[0m\u001b[0margs\u001b[0m\u001b[0;34m,\u001b[0m \u001b[0;34m**\u001b[0m\u001b[0mkwargs\u001b[0m\u001b[0;34m\u001b[0m\u001b[0;34m\u001b[0m\u001b[0m\n\u001b[1;32m    827\u001b[0m         )  # Calls into the C++ engine to run the backward pass\n",
      "\u001b[0;31mKeyboardInterrupt\u001b[0m: "
     ]
    }
   ],
   "source": [
    "from tqdm import tqdm\n",
    "import matplotlib.pyplot as plt\n",
    "\n",
    "# Check if MPS is available and set the device\n",
    "device = torch.device(\"mps\" if torch.backends.mps.is_available() else \"cpu\")\n",
    "print(f\"Using device: {device}\")\n",
    "\n",
    "# Move data to the device\n",
    "X_train, X_test, y_train, y_test = X_train.to(device), X_test.to(device), y_train.to(device), y_test.to(device)\n",
    "\n",
    "# Initialize the model, loss function, and optimizer\n",
    "input_dim = X_train.shape[1]\n",
    "output_dim = y_train.shape[1]\n",
    "print(\"input dim {}, output dim {}\".format(input_dim, output_dim))\n",
    "model = Net(input_dim, output_dim).to(device)\n",
    "criterion = nn.MSELoss()\n",
    "optimizer = optim.Adam(model.parameters(), lr=0.001)\n",
    "\n",
    "# Train the model\n",
    "num_epochs = 1000\n",
    "losses = []\n",
    "for epoch in tqdm(range(num_epochs), desc=\"Training Epochs\"):\n",
    "    model.train()\n",
    "    optimizer.zero_grad()\n",
    "    outputs = model(X_train)\n",
    "    loss = criterion(outputs, y_train)\n",
    "    loss.backward()\n",
    "    optimizer.step()\n",
    "\n",
    "    losses.append(loss.item())\n",
    "\n",
    "    # if (epoch+1) % 10 == 0:\n",
    "    #     print(f'Epoch [{epoch+1}/{num_epochs}], Loss: {loss.item():.4f}')\n",
    "\n",
    "# Evaluate the model\n",
    "model.eval()\n",
    "with torch.no_grad():\n",
    "    predictions = model(X_test)\n",
    "    mse = criterion(predictions, y_test).item()\n",
    "    print(f'Mean Squared Error: {mse}')\n",
    "\n",
    "# Save the trained model\n",
    "torch.save(model.state_dict(), cur_dir + '/model/' + 'OQMD_100k_model')\n",
    "\n",
    "# Plot the loss curve\n",
    "plt.figure(figsize=(10, 5))\n",
    "plt.plot(range(num_epochs), losses, label='Training Loss')\n",
    "plt.xlabel('Epoch')\n",
    "plt.ylabel('Loss')\n",
    "plt.title('Training Loss Curve')\n",
    "plt.legend()\n",
    "plt.show()\n",
    "\n",
    "print('-'*25 + 'Training Summary' + '-'*25)\n",
    "print(f'Mean Squared Error: {mse}')\n",
    "print('-'*25 + 'Training Summary' + '-'*25)\n"
   ]
  },
  {
   "cell_type": "code",
   "execution_count": null,
   "metadata": {
    "id": "pjzcdL-BwNXq"
   },
   "outputs": [],
   "source": [
    "# model = Net()\n",
    "# model.load_state_dict(torch.load(current_dir + '/model/' + 'OQMD_100k_model'))\n",
    "\n",
    "# # Make predictions\n",
    "# model.eval()\n",
    "# with torch.no_grad():\n",
    "#     entry = CompositionEntry(\"Y2I6\")\n",
    "#     stoichiometric = np.array(stoichiometric_generator.generate_features([entry])).flatten()\n",
    "#     ionicity = np.array(ionicity_generator.generate_features([entry])).flatten()\n",
    "#     elemental = np.array(elemental_generator.generate_features([entry])).flatten()\n",
    "#     # charge = np.array(charge_generator.generate_features([entry])).flatten()\n",
    "\n",
    "#     # feature = np.concatenate([stoichiometric, ionicity, elemental, charge])\n",
    "#     feature = np.concatenate([stoichiometric, ionicity, elemental])\n",
    "#     feature = torch.tensor(feature, dtype=torch.float32)\n",
    "#     prediction = model(feature)\n",
    "#     print(prediction)\n",
    "\n",
    "# # 'bandgap', 'energy_pa', 'volume_pa', 'magmom_pa', 'fermi', 'delta_e'"
   ]
  },
  {
   "cell_type": "code",
   "execution_count": null,
   "metadata": {
    "id": "OPlpfaTvwNXr"
   },
   "outputs": [],
   "source": [
    "input_dim = X_train.shape[1]\n",
    "output_dim = y_train.shape[1]\n",
    "model = Net(input_dim, output_dim)\n",
    "model.load_state_dict(torch.load(cur_dir + '/model/' + 'OQMD_100k_model'))\n",
    "\n",
    "def print_prediction(pred):\n",
    "    print(f'Energy per atom: {pred[0][0]:.4f} eV')\n",
    "    print(f'Formation energy per atom: {pred[0][1]:.4f} eV')\n",
    "    print(f'Magnetization per atom: {pred[0][2]:.4f} Bohr magneton')\n",
    "\n",
    "# Make predictions\n",
    "model.eval()\n",
    "with torch.no_grad():\n",
    "    entry = CompositionEntry(\"Y2I6\")\n",
    "    stoichiometric = np.array(stoichiometric_generator.generate_features([entry])).flatten()\n",
    "    ionicity = np.array(ionicity_generator.generate_features([entry])).flatten()\n",
    "    elemental = np.array(elemental_generator.generate_features([entry])).flatten()\n",
    "    # charge = np.array(charge_generator.generate_features([entry])).flatten()\n",
    "\n",
    "    # feature = np.concatenate([stoichiometric, ionicity, elemental, charge])\n",
    "    feature = np.concatenate([stoichiometric, ionicity, elemental])\n",
    "    feature = torch.tensor(feature, dtype=torch.float32).unsqueeze(0)  # Add this line to fix the error\n",
    "    prediction = model(feature)\n",
    "    # print(prediction)\n",
    "    print_prediction(prediction)"
   ]
  },
  {
   "cell_type": "code",
   "execution_count": null,
   "metadata": {
    "id": "ulhSdfgNwNXr"
   },
   "outputs": [],
   "source": [
    "from sklearn.metrics import mean_squared_error\n",
    "\n",
    "input_dim = X_train.shape[1]\n",
    "output_dim = y_train.shape[1]\n",
    "model = Net(input_dim, output_dim)\n",
    "model.load_state_dict(torch.load(cur_dir + '/model/' + 'OQMD_100k_model'))\n",
    "\n",
    "# use the data from \"small_set.txt\" for testing\n",
    "def read_data(file_path):\n",
    "    # Define column names\n",
    "    column_names = [\n",
    "        'name', 'bandgap', 'energy_pa', 'volume_pa', 'magmom_pa',\n",
    "        'fermi', 'hull_distance', 'delta_e'\n",
    "    ]\n",
    "\n",
    "    # Read the data\n",
    "    data = pd.read_csv(file_path, delim_whitespace=True, names=column_names, skiprows=1)\n",
    "\n",
    "    # Handle missing values\n",
    "    data.replace('None', np.nan, inplace=True)\n",
    "    data = data.apply(pd.to_numeric, errors='ignore')\n",
    "\n",
    "    return data\n",
    "\n",
    "file_path = './data/datasets/small_set.txt'\n",
    "data = read_data(file_path)\n",
    "\n",
    "# Only keep Name, Energy per Atom and Magnetization per Atom\n",
    "data = data[['name', 'energy_pa', 'magmom_pa']]\n",
    "\n",
    "# Evaluate the model and calculate the mean squared error\n",
    "device = torch.device(\"mps\" if torch.backends.mps.is_available() else \"cpu\")\n",
    "print(f\"Using device: {device}\")\n",
    "model.to(device)\n",
    "model.eval()\n",
    "\n",
    "all_predictions = []\n",
    "all_targets = []\n",
    "\n",
    "with torch.no_grad():\n",
    "    for i in range(len(data)):\n",
    "        entry = CompositionEntry(data.iloc[i]['name'])\n",
    "        stoichiometric = np.array(stoichiometric_generator.generate_features([entry])).flatten()\n",
    "        ionicity = np.array(ionicity_generator.generate_features([entry])).flatten()\n",
    "        elemental = np.array(elemental_generator.generate_features([entry])).flatten()\n",
    "\n",
    "        # filter all the nan values, if there is any, skip this entry\n",
    "        if np.isnan(stoichiometric).any() or np.isnan(ionicity).any() or np.isnan(elemental).any():\n",
    "            print('NaN values found in entry:', data.iloc[i]['name'])\n",
    "            continue\n",
    "\n",
    "        feature = np.concatenate([stoichiometric, ionicity, elemental])\n",
    "        feature = torch.tensor(feature, dtype=torch.float32).unsqueeze(0).to(device)\n",
    "\n",
    "        output = model(feature)\n",
    "        output = output[0, [0, 2]]  # Only keep Energy per Atom and Magnetization per Atom\n",
    "\n",
    "        all_predictions.append(output.cpu().numpy())\n",
    "        all_targets.append(data.iloc[i][['energy_pa', 'magmom_pa']].values)\n",
    "\n",
    "mse = mean_squared_error(all_targets, all_predictions)\n",
    "print(f'Mean Squared Error: {mse}')"
   ]
  }
 ],
 "metadata": {
  "colab": {
   "provenance": []
  },
  "kernelspec": {
   "display_name": "torch-env",
   "language": "python",
   "name": "python3"
  },
  "language_info": {
   "codemirror_mode": {
    "name": "ipython",
    "version": 3
   },
   "file_extension": ".py",
   "mimetype": "text/x-python",
   "name": "python",
   "nbconvert_exporter": "python",
   "pygments_lexer": "ipython3",
   "version": "3.8.13"
  }
 },
 "nbformat": 4,
 "nbformat_minor": 0
}
