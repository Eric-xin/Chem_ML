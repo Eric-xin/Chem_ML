{
 "cells": [
  {
   "cell_type": "markdown",
   "metadata": {},
   "source": [
    "# Notebook for the Open Quantum Materials Database (OQMD) data processing"
   ]
  },
  {
   "cell_type": "markdown",
   "metadata": {},
   "source": [
    "## Check dataset"
   ]
  },
  {
   "cell_type": "code",
   "execution_count": 12,
   "metadata": {},
   "outputs": [
    {
     "name": "stdout",
     "output_type": "stream",
     "text": [
      "License               oqmd_dataset_utils.py targets.csv\n",
      "config.json           split.json\n",
      "graph_data.npz        summary.txt\n"
     ]
    }
   ],
   "source": [
    "# List the files in the dataset\n",
    "!ls oqmd_dataset/"
   ]
  },
  {
   "cell_type": "code",
   "execution_count": 6,
   "metadata": {},
   "outputs": [
    {
     "name": "stdout",
     "output_type": "stream",
     "text": [
      "-------------------- LICENSE --------------------\n",
      "This work, \"OQMD v1.2 for CGNN\", is a derivative of \"OQMD\" (https://oqmd.org) by Chris Wolverton's group at Northwestern University, used under CC BY 4.0. \"OQMD v1.2 for CGNN\" © 2019 by Takenori Yamamoto is licensed under CC BY 4.0. To view a copy of this license, visit http://creativecommons.org/licenses/by/4.0/\n",
      "\n",
      "-------------------- LICENSE --------------------\n"
     ]
    }
   ],
   "source": [
    "# Load license\n",
    "with open('oqmd_dataset/LICENSE', 'r') as f:\n",
    "    license = f.read()\n",
    "\n",
    "print(\"-\"*20, \"LICENSE\", \"-\"*20)\n",
    "print(license)\n",
    "print(\"-\"*20, \"LICENSE\", \"-\"*20)"
   ]
  },
  {
   "cell_type": "code",
   "execution_count": 8,
   "metadata": {},
   "outputs": [
    {
     "name": "stdout",
     "output_type": "stream",
     "text": [
      "-------------------- SUMMARY --------------------\n",
      "\n",
      "oqmd_data.py\n",
      "562/562 [3:16:30<00:00, 19.71s/it]\n",
      "\n",
      "mp_graph.py\n",
      "[Parallel(n_jobs=-1)]: Done 562 out of 562 | elapsed: 186.1min finished\n",
      "\n",
      "oqmd.py\n",
      "Total Data: 561888\n",
      "unique_z: 89\n",
      "min z: 1\n",
      "max z: 94\n",
      "[ 1  2  3  4  5  6  7  8  9 10 11 12 13 14 15 16 17 18 19 20 21 22 23 24\n",
      " 25 26 27 28 29 30 31 32 33 34 35 36 37 38 39 40 41 42 43 44 45 46 47 48\n",
      " 49 50 51 52 53 54 55 56 57 58 59 60 61 62 63 64 65 66 67 68 69 70 71 72\n",
      " 73 74 75 76 77 78 79 80 81 82 83 89 90 91 92 93 94]\n",
      "Unary formulas: 89\n",
      "Multi formulas: 338047\n",
      "Train formulas: 270528\n",
      "Val formulas: 33804\n",
      "Test formulas: 33804\n",
      "Train: 449867\n",
      "Val: 56289\n",
      "Test: 55732\n",
      "\n",
      "\n",
      "-------------------- SUMMARY --------------------\n"
     ]
    }
   ],
   "source": [
    "with open('oqmd_dataset/summary.txt', 'r') as f:\n",
    "    summary = f.read()\n",
    "\n",
    "print(\"-\"*20, \"SUMMARY\", \"-\"*20)\n",
    "print(summary)\n",
    "print(\"-\"*20, \"SUMMARY\", \"-\"*20)"
   ]
  },
  {
   "cell_type": "markdown",
   "metadata": {},
   "source": [
    "## Load, process, and save the dataset"
   ]
  },
  {
   "cell_type": "code",
   "execution_count": 13,
   "metadata": {},
   "outputs": [],
   "source": [
    "import pandas as pd\n",
    "\n",
    "dataset_path = \"oqmd_dataset/targets.csv\"\n",
    "dataset = pd.read_csv(dataset_path, keep_default_na=False, na_values=['_'])"
   ]
  },
  {
   "cell_type": "code",
   "execution_count": 14,
   "metadata": {},
   "outputs": [
    {
     "name": "stdout",
     "output_type": "stream",
     "text": [
      "-------------------- data structure --------------------\n",
      "          name   formula  spacegroup  nelements  nsites  energy_per_atom  \\\n",
      "0  oqmd-823191  ZrZnNiMo         216          4       4        -6.399036   \n",
      "1  oqmd-362450   DySc2Ir         225          3       4        -6.795189   \n",
      "2  oqmd-758369       YZr          59          2      16        -7.445319   \n",
      "3  oqmd-516941   CrMoAu2         225          3       4        -6.218335   \n",
      "4  oqmd-344596      Ge3O         221          2       4        -4.382844   \n",
      "\n",
      "   formation_energy_per_atom  band_gap  volume_per_atom  \\\n",
      "0                   0.157939       0.0        16.014199   \n",
      "1                  -0.266899       0.0        19.931045   \n",
      "2                   0.060478       0.0        27.308156   \n",
      "3                   0.504200       0.0        15.436073   \n",
      "4                   0.215750       0.0        15.868661   \n",
      "\n",
      "   magnetization_per_atom  atomic_volume_per_atom  volume_deviation  \n",
      "0                0.452473               22.799641         -0.423714  \n",
      "1                0.212367               31.566053         -0.583763  \n",
      "2                0.002801               38.264481         -0.401211  \n",
      "3                0.715628               23.006243         -0.490421  \n",
      "4                0.000000                6.251735          0.606033  \n",
      "-------------------- data structure --------------------\n"
     ]
    }
   ],
   "source": [
    "print(\"-\"*20, \"data structure\", \"-\"*20)\n",
    "print(dataset.head())\n",
    "print(\"-\"*20, \"data structure\", \"-\"*20)"
   ]
  },
  {
   "cell_type": "code",
   "execution_count": 15,
   "metadata": {},
   "outputs": [
    {
     "name": "stdout",
     "output_type": "stream",
     "text": [
      "-------------------- data structure --------------------\n",
      "    formula  energy_per_atom  formation_energy_per_atom  band_gap  \\\n",
      "0  ZrZnNiMo        -6.399036                   0.157939       0.0   \n",
      "1   DySc2Ir        -6.795189                  -0.266899       0.0   \n",
      "2       YZr        -7.445319                   0.060478       0.0   \n",
      "3   CrMoAu2        -6.218335                   0.504200       0.0   \n",
      "4      Ge3O        -4.382844                   0.215750       0.0   \n",
      "\n",
      "   magnetization_per_atom  \n",
      "0                0.452473  \n",
      "1                0.212367  \n",
      "2                0.002801  \n",
      "3                0.715628  \n",
      "4                0.000000  \n",
      "-------------------- data structure --------------------\n"
     ]
    }
   ],
   "source": [
    "# Prepare the data for training\n",
    "\n",
    "# only keep the columns ['formula', 'energy_per_atom', 'formation_energy_per_atom', 'band_gap', 'magnetization_per_atom']\n",
    "\n",
    "dataset = dataset[['formula', 'energy_per_atom', 'formation_energy_per_atom', 'band_gap', 'magnetization_per_atom']]\n",
    "\n",
    "print(\"-\"*20, \"data structure\", \"-\"*20)\n",
    "print(dataset.head())\n",
    "print(\"-\"*20, \"data structure\", \"-\"*20)"
   ]
  },
  {
   "cell_type": "code",
   "execution_count": 17,
   "metadata": {},
   "outputs": [],
   "source": [
    "# Save the data to a csv file\n",
    "import os\n",
    "\n",
    "cur_dir = os.getcwd()\n",
    "dataset_path = os.path.join(cur_dir, \"../data/datasets/oqmd.csv\")\n",
    "dataset.to_csv(dataset_path, index=False)"
   ]
  }
 ],
 "metadata": {
  "kernelspec": {
   "display_name": "torch-env",
   "language": "python",
   "name": "python3"
  },
  "language_info": {
   "codemirror_mode": {
    "name": "ipython",
    "version": 3
   },
   "file_extension": ".py",
   "mimetype": "text/x-python",
   "name": "python",
   "nbconvert_exporter": "python",
   "pygments_lexer": "ipython3",
   "version": "3.8.13"
  }
 },
 "nbformat": 4,
 "nbformat_minor": 2
}
