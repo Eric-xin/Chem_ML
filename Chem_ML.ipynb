{
 "cells": [
  {
   "cell_type": "markdown",
   "metadata": {},
   "source": [
    "# Example usage of LookUpData, CompositionEntry, and OxidationStateGuesser"
   ]
  },
  {
   "cell_type": "code",
   "execution_count": 40,
   "metadata": {},
   "outputs": [
    {
     "data": {
      "text/plain": [
       "array([2.0130e+01, 4.0700e+00, 1.6150e+03, 2.7430e+03, 4.2730e+03,\n",
       "       4.3000e+03, 7.7210e+01, 9.0100e+01, 8.4880e+01, 2.6920e+01,\n",
       "       1.1560e+03, 1.3630e+03, 2.7920e+03, 3.1730e+03, 5.5350e+02,\n",
       "       7.1772e+02, 2.3896e+02, 8.7200e+01, 1.0320e+03, 1.7570e+03,\n",
       "       3.1030e+03, 3.5600e+03, 3.6800e+03, 2.9440e+03, 2.3340e+03,\n",
       "       3.1340e+03, 3.2000e+03, 3.1860e+03, 3.2000e+03, 1.1800e+03,\n",
       "       2.4770e+03, 3.0930e+03, 8.8700e+02, 9.5800e+02, 3.3200e+02,\n",
       "       1.1978e+02, 9.6100e+02, 1.6550e+03, 3.6180e+03, 4.6820e+03,\n",
       "       5.0170e+03, 4.9120e+03, 4.5380e+03, 4.4230e+03, 3.9680e+03,\n",
       "       3.2360e+03, 2.4350e+03, 1.0400e+03, 2.3450e+03, 2.8750e+03,\n",
       "       1.8600e+03, 1.2610e+03, 4.5730e+02, 1.6500e+02, 9.4400e+02,\n",
       "       2.1430e+03, 3.7370e+03, 3.6330e+03, 3.5630e+03, 3.3730e+03,\n",
       "       3.2730e+03, 2.0760e+03, 1.8000e+03, 3.5230e+03, 3.5030e+03,\n",
       "       2.8400e+03, 2.9730e+03, 3.1410e+03, 2.2230e+03, 1.4690e+03,\n",
       "       3.6750e+03, 4.8760e+03, 5.7310e+03, 5.8280e+03, 5.8690e+03,\n",
       "       5.2850e+03, 4.7010e+03, 4.0980e+03, 3.1290e+03, 6.2973e+02,\n",
       "       1.7460e+03, 2.0220e+03, 1.8370e+03, 1.2350e+03,        nan,\n",
       "       2.1130e+02,        nan, 2.0100e+03, 3.4730e+03, 5.0930e+03,\n",
       "       4.2730e+03, 4.2000e+03, 4.2730e+03, 3.5030e+03, 2.2840e+03,\n",
       "       3.3830e+03,        nan,        nan,        nan,        nan,\n",
       "              nan,        nan,        nan,        nan,        nan,\n",
       "              nan,        nan,        nan,        nan,        nan,\n",
       "              nan,        nan])"
      ]
     },
     "execution_count": 40,
     "metadata": {},
     "output_type": "execute_result"
    }
   ],
   "source": [
    "from data.utils.look_up_data import LookUpData\n",
    "\n",
    "# Try to look up the data\n",
    "lookup_data = LookUpData()\n",
    "lookup_data.load_property('BoilingT')"
   ]
  },
  {
   "cell_type": "code",
   "execution_count": 41,
   "metadata": {},
   "outputs": [
    {
     "data": {
      "text/plain": [
       "{7: 3.0, 93: 2.0}"
      ]
     },
     "execution_count": 41,
     "metadata": {},
     "output_type": "execute_result"
    }
   ],
   "source": [
    "from data.utils.composition import CompositionEntry\n",
    "\n",
    "entry = CompositionEntry()\n",
    "entry.parse_composition('O,3.0,Pu,2.0') # Parse the composition"
   ]
  },
  {
   "cell_type": "code",
   "execution_count": 42,
   "metadata": {},
   "outputs": [
    {
     "name": "stdout",
     "output_type": "stream",
     "text": [
      "[[ 1.  4. -2.]]\n"
     ]
    }
   ],
   "source": [
    "from data.utils.oxstate import OxidationStateGuesser\n",
    "from data.utils.composition import CompositionEntry\n",
    "from data.utils.look_up_data import LookUpData\n",
    "\n",
    "ox_guesser = OxidationStateGuesser()\n",
    "en = LookUpData.load_property(\"Electronegativity\")\n",
    "ox_guesser.set_electronegativity(en)\n",
    "ox = LookUpData.load_property(\"OxidationStates\")\n",
    "ox_guesser.set_oxidationstates(ox)\n",
    "\n",
    "entry = CompositionEntry(\"Na2CO3\")\n",
    "possible_states = ox_guesser.get_possible_states(entry)\n",
    "print(possible_states)"
   ]
  },
  {
   "cell_type": "markdown",
   "metadata": {},
   "source": [
    "# Four main attributes\n",
    "- **Stoichiometric attributes** that depend only on the fractions of elements present and not what those elements actually are. These include the number of elements present in the compound and several Lp norms of the fractions. \n",
    "- **Elemental property statistics**, which are defined as the mean, mean absolute deviation, range, minimum, maximum and mode of 22 different elemental properties. This category includes attributes such as the maximum row on periodic table, average atomic number and the range of atomic radii between all elements present in the material. \n",
    "- **Electronic structure attributes**, which are the average fraction of electrons from the s, p, d and f valence shells between all present elements. These are identical to the attributes used by Meredig et al.\n",
    "- **Ionic compound attributes** that include whether it is possible to form an ionic compound assuming all elements are present in a single oxidation state, and two adaptations of the fractional ‘ionic character’ of a compound based on an electronegativitybased measure."
   ]
  },
  {
   "cell_type": "code",
   "execution_count": 43,
   "metadata": {},
   "outputs": [
    {
     "name": "stdout",
     "output_type": "stream",
     "text": [
      "   NComp  Comp_L2Norm  Comp_L3Norm  Comp_L5Norm  Comp_L7Norm  Comp_L10Norm\n",
      "0      3      0.62361     0.550321     0.512897      0.50411      0.500861\n"
     ]
    }
   ],
   "source": [
    "from generator.stoichiometric import StoichiometricAttributeGenerator\n",
    "\n",
    "# Generate the attributes\n",
    "attribute_generator = StoichiometricAttributeGenerator()\n",
    "attributes = attribute_generator.generate_features([CompositionEntry(\"Na2CO3\")])\n",
    "\n",
    "print(attributes)\n",
    "\n",
    "# NComp means number of components, and Comp_LNNorm means the normalized LN norm of the composition vector"
   ]
  },
  {
   "cell_type": "code",
   "execution_count": 44,
   "metadata": {},
   "outputs": [
    {
     "name": "stdout",
     "output_type": "stream",
     "text": [
      "   CanFormIonic  MaxIonicChar  MeanIonicChar\n",
      "0             1      0.792998       0.347733\n",
      "1             1      0.179651       0.079845\n",
      "2             1      0.745613       0.372807\n"
     ]
    }
   ],
   "source": [
    "from generator.ionic import IonicityAttributeGenerator\n",
    "\n",
    "attribute_generator = IonicityAttributeGenerator()\n",
    "attributes = attribute_generator.generate_features([CompositionEntry(\"Na2CO3\"), CompositionEntry(\"CO2\"), CompositionEntry(\"KCl\")])\n",
    "\n",
    "print(attributes)"
   ]
  },
  {
   "cell_type": "code",
   "execution_count": 45,
   "metadata": {},
   "outputs": [
    {
     "name": "stdout",
     "output_type": "stream",
     "text": [
      "   mean_Number  maxdiff_Number  dev_Number  max_Number  min_Number  \\\n",
      "0     8.666667             5.0    1.555556        11.0         6.0   \n",
      "1     7.333333             2.0    0.888889         8.0         6.0   \n",
      "2    18.000000             2.0    1.000000        19.0        17.0   \n",
      "\n",
      "   most_Number  mean_MendeleevNumber  maxdiff_MendeleevNumber  \\\n",
      "0          8.0             57.000000                     85.0   \n",
      "1          8.0             83.666667                     10.0   \n",
      "2         18.0             48.500000                     91.0   \n",
      "\n",
      "   dev_MendeleevNumber  max_MendeleevNumber  ...  dev_GSmagmom  max_GSmagmom  \\\n",
      "0            36.666667                 87.0  ...           0.0           0.0   \n",
      "1             4.444444                 87.0  ...           0.0           0.0   \n",
      "2            45.500000                 94.0  ...           0.0           0.0   \n",
      "\n",
      "   min_GSmagmom  most_GSmagmom  mean_SpaceGroupNumber  \\\n",
      "0           0.0            0.0             114.666667   \n",
      "1           0.0            0.0              72.666667   \n",
      "2           0.0            0.0             146.500000   \n",
      "\n",
      "   maxdiff_SpaceGroupNumber  dev_SpaceGroupNumber  max_SpaceGroupNumber  \\\n",
      "0                     217.0            102.666667                 229.0   \n",
      "1                     182.0             80.888889                 194.0   \n",
      "2                     165.0             82.500000                 229.0   \n",
      "\n",
      "   min_SpaceGroupNumber  most_SpaceGroupNumber  \n",
      "0                  12.0                   12.0  \n",
      "1                  12.0                   12.0  \n",
      "2                  64.0                  146.5  \n",
      "\n",
      "[3 rows x 132 columns]\n"
     ]
    }
   ],
   "source": [
    "from generator.element import ElementalPropertyAttributeGenerator\n",
    "\n",
    "attribute_generator = ElementalPropertyAttributeGenerator()\n",
    "attributes = attribute_generator.generate_features([CompositionEntry(\"Na2CO3\"), CompositionEntry(\"CO2\"), CompositionEntry(\"KCl\")])\n",
    "\n",
    "print(attributes)"
   ]
  },
  {
   "cell_type": "code",
   "execution_count": 46,
   "metadata": {},
   "outputs": [
    {
     "name": "stdout",
     "output_type": "stream",
     "text": [
      "   min_Charge  max_Charge  maxdiff_Charge  mean_Charge  var_Charge  \\\n",
      "0        -2.0         4.0             6.0     2.000000    0.666667   \n",
      "1        -2.0         4.0             6.0     2.666667    0.888889   \n",
      "2        -1.0         1.0             2.0     1.000000    0.000000   \n",
      "\n",
      "   CumulativeIonizationEnergy  CumulativeElectronAffinity  \\\n",
      "0                   52.767817                       282.0   \n",
      "1                  148.025300                       282.0   \n",
      "2                    4.340663                       349.0   \n",
      "\n",
      "   AnionCationElectronegativityDiff  \n",
      "0                              1.97  \n",
      "1                              0.89  \n",
      "2                              2.34  \n"
     ]
    }
   ],
   "source": [
    "from generator.charge import ChargeDependentAttributeGenerator\n",
    "\n",
    "attribute_generator = ChargeDependentAttributeGenerator()\n",
    "attributes = attribute_generator.generate_features([CompositionEntry(\"Na2CO3\"), CompositionEntry(\"CO2\"), CompositionEntry(\"KCl\")])\n",
    "\n",
    "print(attributes)"
   ]
  },
  {
   "cell_type": "markdown",
   "metadata": {},
   "source": [
    "# Machine Learning Model"
   ]
  },
  {
   "cell_type": "code",
   "execution_count": 47,
   "metadata": {},
   "outputs": [],
   "source": [
    "import pandas as pd\n",
    "import torch\n",
    "import torch.nn as nn\n",
    "import torch.optim as optim\n",
    "from sklearn.model_selection import KFold\n",
    "from sklearn.preprocessing import StandardScaler\n",
    "from sklearn.model_selection import train_test_split\n",
    "# from sklearn.metrics import mean_squared_error\n",
    "import numpy as np\n"
   ]
  },
  {
   "cell_type": "code",
   "execution_count": 48,
   "metadata": {},
   "outputs": [
    {
     "name": "stdout",
     "output_type": "stream",
     "text": [
      "                    name  bandgap  energy_pa  volume_pa  magmom_pa     fermi  \\\n",
      "0          O,3.0,Pu,2.0,    1.937 -11.172604  14.962000   2.000000  9.101894   \n",
      "1  Mg,2.0,Nd,4.0,Cu,4.0,    0.000  -3.888190  22.624000   0.000000  3.806029   \n",
      "2   Cr,1.0,O,4.0,Sr,2.0,    0.000  -6.717626  12.734286   0.285714  3.029596   \n",
      "3           I,6.0,Y,2.0,    3.101  -4.194372  46.803750   0.000000  0.639353   \n",
      "4         Mn,2.0,Sn,4.0,    0.000  -5.666459  19.375000   0.715772  9.296684   \n",
      "\n",
      "   hull_distance   delta_e  \n",
      "0      -0.496022 -3.626996  \n",
      "1      -0.029635 -0.202533  \n",
      "2      -0.029047 -2.721397  \n",
      "3      -1.131080 -1.577544  \n",
      "4      -0.053667 -0.053667  \n"
     ]
    }
   ],
   "source": [
    "def read_data(file_path):\n",
    "    # Define column names\n",
    "    column_names = [\n",
    "        'name', 'bandgap', 'energy_pa', 'volume_pa', 'magmom_pa', \n",
    "        'fermi', 'hull_distance', 'delta_e'\n",
    "    ]\n",
    "    \n",
    "    # Read the data\n",
    "    data = pd.read_csv(file_path, delim_whitespace=True, names=column_names, skiprows=1)\n",
    "    \n",
    "    # Handle missing values\n",
    "    data.replace('None', np.nan, inplace=True)\n",
    "    data = data.apply(pd.to_numeric, errors='ignore')\n",
    "    \n",
    "    return data\n",
    "\n",
    "# Usage\n",
    "file_path = './data/datasets/small_set.txt'\n",
    "data = read_data(file_path)\n",
    "print(data.head())"
   ]
  },
  {
   "cell_type": "code",
   "execution_count": 49,
   "metadata": {},
   "outputs": [],
   "source": [
    "# Process the data\n",
    "# Use the Stoichoimetric Attribute, Ionicity Attribute, Elemental Property Attribute, and Charge Dependent Attribute as features\n",
    "# Use bandgap, energy_pa, volume_pa, magmom_pa, fermi, hull_distance, and delta_e as targets\n",
    "\n",
    "from generator.stoichiometric import StoichiometricAttributeGenerator\n",
    "from generator.ionic import IonicityAttributeGenerator\n",
    "from generator.element import ElementalPropertyAttributeGenerator\n",
    "from generator.charge import ChargeDependentAttributeGenerator\n",
    "\n",
    "# Generate the features\n",
    "stoichiometric_generator = StoichiometricAttributeGenerator()\n",
    "ionicity_generator = IonicityAttributeGenerator()\n",
    "elemental_generator = ElementalPropertyAttributeGenerator()\n",
    "charge_generator = ChargeDependentAttributeGenerator()"
   ]
  },
  {
   "cell_type": "code",
   "execution_count": 50,
   "metadata": {},
   "outputs": [
    {
     "name": "stdout",
     "output_type": "stream",
     "text": [
      "   NComp  Comp_L2Norm  Comp_L3Norm  Comp_L5Norm  Comp_L7Norm  Comp_L10Norm\n",
      "0      2      0.72111     0.654213      0.61503     0.604895      0.601032\n",
      "   CanFormIonic  MaxIonicChar  MeanIonicChar\n",
      "0             1      0.688514       0.330487\n",
      "   mean_Number  maxdiff_Number  dev_Number  max_Number  min_Number  \\\n",
      "0         42.4            86.0       41.28        94.0         8.0   \n",
      "\n",
      "   most_Number  mean_MendeleevNumber  maxdiff_MendeleevNumber  \\\n",
      "0          8.0                  61.8                     63.0   \n",
      "\n",
      "   dev_MendeleevNumber  max_MendeleevNumber  ...  dev_GSmagmom  max_GSmagmom  \\\n",
      "0                30.24                 87.0  ...      0.152642      0.318004   \n",
      "\n",
      "   min_GSmagmom  most_GSmagmom  mean_SpaceGroupNumber  \\\n",
      "0           0.0            0.0                   11.6   \n",
      "\n",
      "   maxdiff_SpaceGroupNumber  dev_SpaceGroupNumber  max_SpaceGroupNumber  \\\n",
      "0                       1.0                  0.48                  12.0   \n",
      "\n",
      "   min_SpaceGroupNumber  most_SpaceGroupNumber  \n",
      "0                  11.0                   12.0  \n",
      "\n",
      "[1 rows x 132 columns]\n"
     ]
    },
    {
     "name": "stderr",
     "output_type": "stream",
     "text": [
      "WARNING: Missing ionization energy data for:\n",
      "\tPu: +3.0\n"
     ]
    }
   ],
   "source": [
    "chemical = CompositionEntry(\"O,3.0,Pu,2.0,\")\n",
    "stoichiometric_features = stoichiometric_generator.generate_features([chemical])\n",
    "ionicity_features = ionicity_generator.generate_features([chemical])\n",
    "elemental_features = elemental_generator.generate_features([chemical])\n",
    "charge_features = charge_generator.generate_features([chemical])\n",
    "print(stoichiometric_features)\n",
    "print(ionicity_features)\n",
    "print(elemental_features)\n",
    "# print(charge_features)"
   ]
  },
  {
   "cell_type": "code",
   "execution_count": 51,
   "metadata": {},
   "outputs": [],
   "source": [
    "import os\n",
    "\n",
    "features = []\n",
    "for i in range(len(data)):\n",
    "    entry = CompositionEntry(data['name'][i])\n",
    "    stoichiometric = np.array(stoichiometric_generator.generate_features([entry])).flatten()\n",
    "    ionicity = np.array(ionicity_generator.generate_features([entry])).flatten()\n",
    "    elemental = np.array(elemental_generator.generate_features([entry])).flatten()\n",
    "    # charge = np.array(charge_generator.generate_features([entry])).flatten()\n",
    "    \n",
    "    # feature = np.concatenate([stoichiometric, ionicity, elemental, charge])\n",
    "    feature = np.concatenate([stoichiometric, ionicity, elemental])\n",
    "    features.append(feature)\n",
    "\n",
    "features = np.array(features)\n",
    "\n",
    "current_dir = os.getcwd()\n",
    "\n",
    "# Save features to /tmp/features.csv\n",
    "np.savetxt(current_dir + \"/tmp/features.csv\", features, delimiter=\",\")\n",
    "\n",
    "# features = features[~mask] # Remove the rows with missing values"
   ]
  },
  {
   "cell_type": "code",
   "execution_count": 52,
   "metadata": {},
   "outputs": [],
   "source": [
    "# target = data[['bandgap', 'energy_pa', 'volume_pa', 'magmom_pa', 'fermi', 'hull_distance', 'delta_e']].values\n",
    "target = data[['bandgap', 'energy_pa', 'volume_pa', 'magmom_pa', 'fermi', 'delta_e']].values\n",
    "np.savetxt(current_dir + \"/tmp/target.csv\", target, delimiter=\",\")"
   ]
  },
  {
   "cell_type": "code",
   "execution_count": 53,
   "metadata": {},
   "outputs": [
    {
     "name": "stdout",
     "output_type": "stream",
     "text": [
      "torch.Size([504, 141]) torch.Size([504, 6])\n",
      "torch.Size([126, 141]) torch.Size([126, 6])\n",
      "tensor([2.0000e+00, 8.2462e-01, 8.0415e-01, 8.0016e-01, 8.0001e-01, 8.0000e-01,\n",
      "        0.0000e+00, 1.8700e-01, 5.9840e-02, 1.5800e+01, 5.4000e+01, 1.7280e+01,\n",
      "        5.9000e+01, 5.0000e+00, 5.0000e+00, 6.1000e+01, 5.5000e+01, 1.7600e+01,\n",
      "        7.2000e+01, 1.7000e+01, 7.2000e+01, 3.6830e+01, 1.3010e+02, 4.1631e+01,\n",
      "        1.4091e+02, 1.0811e+01, 1.0811e+01, 2.1192e+03, 1.1440e+03, 3.6608e+02,\n",
      "        2.3480e+03, 1.2040e+03, 2.3480e+03, 1.1000e+01, 1.0000e+01, 3.2000e+00,\n",
      "        1.3000e+01, 3.0000e+00, 1.3000e+01, 2.8000e+00, 4.0000e+00, 1.2800e+00,\n",
      "        6.0000e+00, 2.0000e+00, 2.0000e+00, 1.0780e+02, 1.1900e+02, 3.8080e+01,\n",
      "        2.0300e+02, 8.4000e+01, 8.4000e+01, 1.8580e+00, 9.1000e-01, 2.9120e-01,\n",
      "        2.0400e+00, 1.1300e+00, 2.0400e+00, 2.0000e+00, 0.0000e+00, 0.0000e+00,\n",
      "        2.0000e+00, 2.0000e+00, 2.0000e+00, 8.0000e-01, 1.0000e+00, 3.2000e-01,\n",
      "        1.0000e+00, 0.0000e+00, 1.0000e+00, 0.0000e+00, 0.0000e+00, 0.0000e+00,\n",
      "        0.0000e+00, 0.0000e+00, 0.0000e+00, 6.0000e-01, 3.0000e+00, 9.6000e-01,\n",
      "        3.0000e+00, 0.0000e+00, 0.0000e+00, 3.4000e+00, 2.0000e+00, 6.4000e-01,\n",
      "        5.0000e+00, 3.0000e+00, 3.0000e+00, 0.0000e+00, 0.0000e+00, 0.0000e+00,\n",
      "        0.0000e+00, 0.0000e+00, 0.0000e+00, 4.0000e+00, 5.0000e+00, 1.6000e+00,\n",
      "        5.0000e+00, 0.0000e+00, 5.0000e+00, 0.0000e+00, 0.0000e+00, 0.0000e+00,\n",
      "        0.0000e+00, 0.0000e+00, 0.0000e+00, 2.2000e+00, 1.1000e+01, 3.5200e+00,\n",
      "        1.1000e+01, 0.0000e+00, 0.0000e+00, 6.2000e+00, 6.0000e+00, 1.9200e+00,\n",
      "        1.1000e+01, 5.0000e+00, 5.0000e+00, 1.2873e+01, 2.8503e+01, 9.1208e+00,\n",
      "        3.5675e+01, 7.1725e+00, 7.1725e+00, 1.2192e+00, 1.5240e+00, 4.8768e-01,\n",
      "        1.5240e+00, 0.0000e+00, 1.5240e+00, 0.0000e+00, 0.0000e+00, 0.0000e+00,\n",
      "        0.0000e+00, 0.0000e+00, 0.0000e+00, 1.7160e+02, 2.8000e+01, 8.9600e+00,\n",
      "        1.9400e+02, 1.6600e+02, 1.6600e+02])\n",
      "tensor([ 0.0000, -6.8431, 10.8780,  0.0000,  6.1091, -0.5461])\n"
     ]
    }
   ],
   "source": [
    "features = pd.read_csv(current_dir + \"/tmp/features.csv\", header=None)\n",
    "targets = pd.read_csv(current_dir + \"/tmp/target.csv\", header=None)\n",
    "\n",
    "# Convert features and targets to PyTorch tensors\n",
    "features = torch.tensor(features.values, dtype=torch.float32)\n",
    "targets = torch.tensor(targets.values, dtype=torch.float32)\n",
    "\n",
    "# Split the data into training and testing sets\n",
    "X_train, X_test, y_train, y_test = train_test_split(features, targets, test_size=0.2, random_state=42)\n",
    "\n",
    "print(X_train.shape, y_train.shape)\n",
    "print(X_test.shape, y_test.shape)\n",
    "\n",
    "print(X_train[0])\n",
    "print(y_train[0])"
   ]
  },
  {
   "cell_type": "code",
   "execution_count": 54,
   "metadata": {},
   "outputs": [],
   "source": [
    "# # Define the neural network architecture\n",
    "# class Net(nn.Module):\n",
    "#     def __init__(self):\n",
    "#         super(Net, self).__init__()\n",
    "#         self.fc1 = nn.Linear(X_train.shape[1], 128)\n",
    "#         self.fc2 = nn.Linear(128, 64)\n",
    "#         self.fc3 = nn.Linear(64, 32)\n",
    "#         self.fc4 = nn.Linear(32, y_train.shape[1])\n",
    "    \n",
    "#     def forward(self, x):\n",
    "#         x = torch.relu(self.fc1(x))\n",
    "#         x = torch.relu(self.fc2(x))\n",
    "#         x = torch.relu(self.fc3(x))\n",
    "#         x = self.fc4(x)\n",
    "#         return x"
   ]
  },
  {
   "cell_type": "code",
   "execution_count": 55,
   "metadata": {},
   "outputs": [],
   "source": [
    "# from model.simple_model import Net\n",
    "# from model.simple_model_revised import Net\n",
    "from model.simple_model_residue import Net\n",
    "# from model.model import Net\n",
    "# from model.residue import Net"
   ]
  },
  {
   "cell_type": "code",
   "execution_count": 56,
   "metadata": {},
   "outputs": [
    {
     "name": "stdout",
     "output_type": "stream",
     "text": [
      "input dim 141, output dim 6\n",
      "Epoch [10/1000], Loss: 16.2752\n",
      "Epoch [20/1000], Loss: 7.3805\n",
      "Epoch [30/1000], Loss: 4.8597\n",
      "Epoch [40/1000], Loss: 4.0096\n",
      "Epoch [50/1000], Loss: 3.3498\n",
      "Epoch [60/1000], Loss: 2.9364\n",
      "Epoch [70/1000], Loss: 2.6226\n",
      "Epoch [80/1000], Loss: 2.3628\n",
      "Epoch [90/1000], Loss: 2.1466\n",
      "Epoch [100/1000], Loss: 1.9987\n",
      "Epoch [110/1000], Loss: 1.8385\n",
      "Epoch [120/1000], Loss: 1.7118\n",
      "Epoch [130/1000], Loss: 1.6239\n",
      "Epoch [140/1000], Loss: 1.5322\n",
      "Epoch [150/1000], Loss: 1.4771\n",
      "Epoch [160/1000], Loss: 1.4728\n",
      "Epoch [170/1000], Loss: 1.3328\n",
      "Epoch [180/1000], Loss: 1.2745\n",
      "Epoch [190/1000], Loss: 1.3279\n",
      "Epoch [200/1000], Loss: 1.1960\n",
      "Epoch [210/1000], Loss: 1.1636\n",
      "Epoch [220/1000], Loss: 1.1853\n",
      "Epoch [230/1000], Loss: 1.1323\n",
      "Epoch [240/1000], Loss: 1.0886\n",
      "Epoch [250/1000], Loss: 1.0028\n",
      "Epoch [260/1000], Loss: 1.0478\n",
      "Epoch [270/1000], Loss: 1.0345\n",
      "Epoch [280/1000], Loss: 0.9276\n",
      "Epoch [290/1000], Loss: 0.9147\n",
      "Epoch [300/1000], Loss: 1.0786\n",
      "Epoch [310/1000], Loss: 0.9086\n",
      "Epoch [320/1000], Loss: 0.8495\n",
      "Epoch [330/1000], Loss: 0.8521\n",
      "Epoch [340/1000], Loss: 0.8257\n",
      "Epoch [350/1000], Loss: 0.8420\n",
      "Epoch [360/1000], Loss: 0.7881\n",
      "Epoch [370/1000], Loss: 0.7881\n",
      "Epoch [380/1000], Loss: 0.7552\n",
      "Epoch [390/1000], Loss: 0.8341\n",
      "Epoch [400/1000], Loss: 0.8198\n",
      "Epoch [410/1000], Loss: 0.7703\n",
      "Epoch [420/1000], Loss: 0.7226\n",
      "Epoch [430/1000], Loss: 0.7673\n",
      "Epoch [440/1000], Loss: 0.7187\n",
      "Epoch [450/1000], Loss: 0.7368\n",
      "Epoch [460/1000], Loss: 0.6512\n",
      "Epoch [470/1000], Loss: 0.8581\n",
      "Epoch [480/1000], Loss: 0.6340\n",
      "Epoch [490/1000], Loss: 0.6218\n",
      "Epoch [500/1000], Loss: 0.6462\n",
      "Epoch [510/1000], Loss: 0.5963\n",
      "Epoch [520/1000], Loss: 0.6010\n",
      "Epoch [530/1000], Loss: 0.7117\n",
      "Epoch [540/1000], Loss: 0.7476\n",
      "Epoch [550/1000], Loss: 0.5841\n",
      "Epoch [560/1000], Loss: 0.5760\n",
      "Epoch [570/1000], Loss: 0.5550\n",
      "Epoch [580/1000], Loss: 0.5470\n",
      "Epoch [590/1000], Loss: 0.5968\n",
      "Epoch [600/1000], Loss: 0.5859\n",
      "Epoch [610/1000], Loss: 0.5364\n",
      "Epoch [620/1000], Loss: 0.5660\n",
      "Epoch [630/1000], Loss: 0.5056\n",
      "Epoch [640/1000], Loss: 0.4971\n",
      "Epoch [650/1000], Loss: 0.4974\n",
      "Epoch [660/1000], Loss: 1.3550\n",
      "Epoch [670/1000], Loss: 0.5651\n",
      "Epoch [680/1000], Loss: 0.6248\n",
      "Epoch [690/1000], Loss: 0.5458\n",
      "Epoch [700/1000], Loss: 0.4763\n",
      "Epoch [710/1000], Loss: 0.4631\n",
      "Epoch [720/1000], Loss: 0.4808\n",
      "Epoch [730/1000], Loss: 0.4724\n",
      "Epoch [740/1000], Loss: 0.5502\n",
      "Epoch [750/1000], Loss: 0.4904\n",
      "Epoch [760/1000], Loss: 0.4373\n",
      "Epoch [770/1000], Loss: 0.4886\n",
      "Epoch [780/1000], Loss: 0.4573\n",
      "Epoch [790/1000], Loss: 0.4309\n",
      "Epoch [800/1000], Loss: 0.5199\n",
      "Epoch [810/1000], Loss: 0.4225\n",
      "Epoch [820/1000], Loss: 0.5130\n",
      "Epoch [830/1000], Loss: 0.4299\n",
      "Epoch [840/1000], Loss: 0.4306\n",
      "Epoch [850/1000], Loss: 0.4340\n",
      "Epoch [860/1000], Loss: 0.4313\n",
      "Epoch [870/1000], Loss: 0.4937\n",
      "Epoch [880/1000], Loss: 0.4053\n",
      "Epoch [890/1000], Loss: 0.3792\n",
      "Epoch [900/1000], Loss: 0.5911\n",
      "Epoch [910/1000], Loss: 0.4656\n",
      "Epoch [920/1000], Loss: 0.3897\n",
      "Epoch [930/1000], Loss: 0.4139\n",
      "Epoch [940/1000], Loss: 0.3650\n",
      "Epoch [950/1000], Loss: 0.5249\n",
      "Epoch [960/1000], Loss: 0.3994\n",
      "Epoch [970/1000], Loss: 0.3897\n",
      "Epoch [980/1000], Loss: 0.3773\n",
      "Epoch [990/1000], Loss: 0.7645\n",
      "Epoch [1000/1000], Loss: 0.3743\n",
      "Mean Squared Error: 1.0657118558883667\n"
     ]
    },
    {
     "data": {
      "image/png": "[encoded data removed]",
      "text/plain": [
       "<Figure size 720x360 with 1 Axes>"
      ]
     },
     "metadata": {
      "needs_background": "light"
     },
     "output_type": "display_data"
    }
   ],
   "source": [
    "import matplotlib.pyplot as plt\n",
    "\n",
    "# Initialize the model, loss function, and optimizer\n",
    "input_dim = X_train.shape[1]\n",
    "output_dim = y_train.shape[1]\n",
    "print(\"input dim {}, output dim {}\".format(input_dim, output_dim))\n",
    "model = Net(input_dim, output_dim)\n",
    "# model = Net()\n",
    "criterion = nn.MSELoss()\n",
    "optimizer = optim.Adam(model.parameters(), lr=0.001)\n",
    "\n",
    "# Train the model\n",
    "num_epochs = 1000\n",
    "losses = []\n",
    "for epoch in range(num_epochs):\n",
    "    model.train()\n",
    "    optimizer.zero_grad()\n",
    "    outputs = model(X_train)\n",
    "    loss = criterion(outputs, y_train)\n",
    "    loss.backward()\n",
    "    optimizer.step()\n",
    "    \n",
    "    losses.append(loss.item())\n",
    "    \n",
    "    if (epoch+1) % 10 == 0:\n",
    "        print(f'Epoch [{epoch+1}/{num_epochs}], Loss: {loss.item():.4f}')\n",
    "\n",
    "# Evaluate the model\n",
    "model.eval()\n",
    "with torch.no_grad():\n",
    "    predictions = model(X_test)\n",
    "    mse = criterion(predictions, y_test).item()\n",
    "    print(f'Mean Squared Error: {mse}')\n",
    "\n",
    "# Save the trained model\n",
    "torch.save(model.state_dict(), current_dir + '/model/' + 'trained_model.pth')\n",
    "\n",
    "# Plot the loss curve\n",
    "plt.figure(figsize=(10, 5))\n",
    "plt.plot(range(num_epochs), losses, label='Training Loss')\n",
    "plt.xlabel('Epoch')\n",
    "# plt.yscale('log')\n",
    "plt.ylabel('Loss')\n",
    "plt.title('Training Loss Curve')\n",
    "plt.legend()\n",
    "plt.show()"
   ]
  },
  {
   "cell_type": "code",
   "execution_count": 57,
   "metadata": {},
   "outputs": [],
   "source": [
    "# model = Net()\n",
    "# model.load_state_dict(torch.load(current_dir + '/model/' + 'trained_model.pth'))\n",
    "\n",
    "# # Make predictions\n",
    "# model.eval()\n",
    "# with torch.no_grad():\n",
    "#     entry = CompositionEntry(\"Y2I6\")\n",
    "#     stoichiometric = np.array(stoichiometric_generator.generate_features([entry])).flatten()\n",
    "#     ionicity = np.array(ionicity_generator.generate_features([entry])).flatten()\n",
    "#     elemental = np.array(elemental_generator.generate_features([entry])).flatten()\n",
    "#     # charge = np.array(charge_generator.generate_features([entry])).flatten()\n",
    "    \n",
    "#     # feature = np.concatenate([stoichiometric, ionicity, elemental, charge])\n",
    "#     feature = np.concatenate([stoichiometric, ionicity, elemental])\n",
    "#     feature = torch.tensor(feature, dtype=torch.float32)\n",
    "#     prediction = model(feature)\n",
    "#     print(prediction)\n",
    "\n",
    "# # 'bandgap', 'energy_pa', 'volume_pa', 'magmom_pa', 'fermi', 'delta_e'"
   ]
  },
  {
   "cell_type": "code",
   "execution_count": 58,
   "metadata": {},
   "outputs": [
    {
     "name": "stdout",
     "output_type": "stream",
     "text": [
      "tensor([[ 2.2521, -4.0210, 46.8096, -0.0539,  1.6504, -2.2120]])\n"
     ]
    }
   ],
   "source": [
    "input_dim = X_train.shape[1]\n",
    "output_dim = y_train.shape[1]\n",
    "model = Net(input_dim, output_dim)\n",
    "model.load_state_dict(torch.load(current_dir + '/model/' + 'trained_model.pth'))\n",
    "\n",
    "# Make predictions\n",
    "model.eval()\n",
    "with torch.no_grad():\n",
    "    entry = CompositionEntry(\"Y2I6\")\n",
    "    stoichiometric = np.array(stoichiometric_generator.generate_features([entry])).flatten()\n",
    "    ionicity = np.array(ionicity_generator.generate_features([entry])).flatten()\n",
    "    elemental = np.array(elemental_generator.generate_features([entry])).flatten()\n",
    "    # charge = np.array(charge_generator.generate_features([entry])).flatten()\n",
    "    \n",
    "    # feature = np.concatenate([stoichiometric, ionicity, elemental, charge])\n",
    "    feature = np.concatenate([stoichiometric, ionicity, elemental])\n",
    "    feature = torch.tensor(feature, dtype=torch.float32).unsqueeze(0)  # Add this line to fix the error\n",
    "    prediction = model(feature)\n",
    "    print(prediction)\n",
    "\n",
    "# 'bandgap', 'energy_pa', 'volume_pa', 'magmom_pa', 'fermi', 'delta_e'"
   ]
  }
 ],
 "metadata": {
  "kernelspec": {
   "display_name": "torch-env",
   "language": "python",
   "name": "python3"
  },
  "language_info": {
   "codemirror_mode": {
    "name": "ipython",
    "version": 3
   },
   "file_extension": ".py",
   "mimetype": "text/x-python",
   "name": "python",
   "nbconvert_exporter": "python",
   "pygments_lexer": "ipython3",
   "version": "3.8.13"
  }
 },
 "nbformat": 4,
 "nbformat_minor": 2
}
