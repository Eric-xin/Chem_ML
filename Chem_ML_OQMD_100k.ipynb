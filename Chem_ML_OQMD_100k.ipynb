{
 "cells": [
  {
   "cell_type": "markdown",
   "metadata": {},
   "source": [
    "## Load the data"
   ]
  },
  {
   "cell_type": "code",
   "execution_count": 1,
   "metadata": {},
   "outputs": [],
   "source": [
    "import pandas as pd\n",
    "import torch\n",
    "import torch.nn as nn\n",
    "import torch.optim as optim\n",
    "from sklearn.model_selection import KFold\n",
    "from sklearn.preprocessing import StandardScaler\n",
    "from sklearn.model_selection import train_test_split\n",
    "# from sklearn.metrics import mean_squared_error\n",
    "import numpy as np\n"
   ]
  },
  {
   "cell_type": "code",
   "execution_count": 2,
   "metadata": {},
   "outputs": [],
   "source": [
    "import os\n",
    "cur_dir = os.getcwd()\n",
    "data_dir = os.path.join(cur_dir, 'data/datasets')\n",
    "data_name = 'oqmd.csv'\n",
    "data_path = os.path.join(data_dir, data_name)\n",
    "df = pd.read_csv(data_path)"
   ]
  },
  {
   "cell_type": "code",
   "execution_count": 3,
   "metadata": {},
   "outputs": [
    {
     "name": "stdout",
     "output_type": "stream",
     "text": [
      "-------------------------Data Info-------------------------\n",
      "    formula  energy_per_atom  formation_energy_per_atom  band_gap  \\\n",
      "0  ZrZnNiMo        -6.399036                   0.157939       0.0   \n",
      "1   DySc2Ir        -6.795189                  -0.266899       0.0   \n",
      "2       YZr        -7.445319                   0.060478       0.0   \n",
      "3   CrMoAu2        -6.218335                   0.504200       0.0   \n",
      "4      Ge3O        -4.382844                   0.215750       0.0   \n",
      "\n",
      "   magnetization_per_atom  \n",
      "0                0.452473  \n",
      "1                0.212367  \n",
      "2                0.002801  \n",
      "3                0.715628  \n",
      "4                0.000000  \n",
      "-------------------------Data Info-------------------------\n"
     ]
    }
   ],
   "source": [
    "print('-'*25 + 'Data Info' + '-'*25)\n",
    "print(df.head())\n",
    "print('-'*25 + 'Data Info' + '-'*25)"
   ]
  },
  {
   "cell_type": "code",
   "execution_count": 4,
   "metadata": {},
   "outputs": [
    {
     "name": "stdout",
     "output_type": "stream",
     "text": [
      "Data size: 561888\n"
     ]
    }
   ],
   "source": [
    "data_size = df.shape[0]\n",
    "print('Data size:', data_size)"
   ]
  },
  {
   "cell_type": "code",
   "execution_count": 5,
   "metadata": {},
   "outputs": [],
   "source": [
    "df = df[:100000]"
   ]
  },
  {
   "cell_type": "markdown",
   "metadata": {},
   "source": [
    "## Initialize Attribute Generators"
   ]
  },
  {
   "cell_type": "code",
   "execution_count": 6,
   "metadata": {},
   "outputs": [],
   "source": [
    "# Process the data\n",
    "# Use the Stoichoimetric Attribute, Ionicity Attribute, Elemental Property Attribute, and Charge Dependent Attribute as features\n",
    "# Use bandgap, energy_pa, volume_pa, magmom_pa, fermi, hull_distance, and delta_e as targets\n",
    "\n",
    "from generator import *\n",
    "\n",
    "# Generate the features\n",
    "stoichiometric_generator = StoichiometricAttributeGenerator()\n",
    "ionicity_generator = IonicityAttributeGenerator()\n",
    "elemental_generator = ElementalPropertyAttributeGenerator()\n",
    "charge_generator = ChargeDependentAttributeGenerator()"
   ]
  },
  {
   "cell_type": "markdown",
   "metadata": {},
   "source": [
    "## Prepare features and targets"
   ]
  },
  {
   "cell_type": "code",
   "execution_count": 7,
   "metadata": {},
   "outputs": [
    {
     "name": "stdout",
     "output_type": "stream",
     "text": [
      "-------------------------Dropped Rows-------------------------\n",
      "Dropped rows: 461892\n",
      "-------------------------Dropped Rows-------------------------\n",
      "-------------------------Start: data processing-------------------------\n"
     ]
    },
    {
     "name": "stderr",
     "output_type": "stream",
     "text": [
      "Processing Formulas:   0%|          | 0/99996 [00:00<?, ?it/s]"
     ]
    },
    {
     "name": "stderr",
     "output_type": "stream",
     "text": [
      "Processing Formulas:  13%|█▎        | 12503/99996 [00:41<04:31, 322.36it/s]WARNING: There are 1 elemental properties with missing values: \n",
      "\tElectronegativity: Ar\n",
      "Processing Formulas:  13%|█▎        | 12569/99996 [00:41<04:35, 317.01it/s]"
     ]
    },
    {
     "name": "stdout",
     "output_type": "stream",
     "text": [
      "NaN values found in entry: Ar\n"
     ]
    },
    {
     "name": "stderr",
     "output_type": "stream",
     "text": [
      "Processing Formulas:  32%|███▏      | 31616/99996 [01:45<04:08, 275.66it/s]WARNING: There are 2 elemental properties with missing values: \n",
      "\tMeltingT: He\n",
      "\tElectronegativity: He\n",
      "Processing Formulas:  32%|███▏      | 31675/99996 [01:46<04:04, 279.97it/s]"
     ]
    },
    {
     "name": "stdout",
     "output_type": "stream",
     "text": [
      "NaN values found in entry: He\n"
     ]
    },
    {
     "name": "stderr",
     "output_type": "stream",
     "text": [
      "Processing Formulas:  37%|███▋      | 36719/99996 [02:02<03:17, 319.91it/s]WARNING: There are 1 elemental properties with missing values: \n",
      "\tElectronegativity: Ne\n",
      "Processing Formulas:  37%|███▋      | 36785/99996 [02:03<03:16, 321.15it/s]"
     ]
    },
    {
     "name": "stdout",
     "output_type": "stream",
     "text": [
      "NaN values found in entry: Ne\n"
     ]
    },
    {
     "name": "stderr",
     "output_type": "stream",
     "text": [
      "Processing Formulas:  47%|████▋     | 46980/99996 [02:35<02:50, 311.74it/s]WARNING: There are 1 elemental properties with missing values: \n",
      "\tElectronegativity: Ar\n",
      "Processing Formulas:  47%|████▋     | 47044/99996 [02:35<02:50, 310.01it/s]"
     ]
    },
    {
     "name": "stdout",
     "output_type": "stream",
     "text": [
      "NaN values found in entry: Ar\n"
     ]
    },
    {
     "name": "stderr",
     "output_type": "stream",
     "text": [
      "Processing Formulas:  56%|█████▌    | 55765/99996 [03:03<02:16, 322.86it/s]WARNING: There are 1 elemental properties with missing values: \n",
      "\tElectronegativity: Ar\n",
      "Processing Formulas:  56%|█████▌    | 55831/99996 [03:03<02:17, 320.69it/s]"
     ]
    },
    {
     "name": "stdout",
     "output_type": "stream",
     "text": [
      "NaN values found in entry: Ar\n"
     ]
    },
    {
     "name": "stderr",
     "output_type": "stream",
     "text": [
      "Processing Formulas:  57%|█████▋    | 57021/99996 [03:08<02:31, 283.89it/s]WARNING: There are 1 elemental properties with missing values: \n",
      "\tElectronegativity: Ne\n",
      "Processing Formulas:  57%|█████▋    | 57081/99996 [03:08<02:28, 289.53it/s]"
     ]
    },
    {
     "name": "stdout",
     "output_type": "stream",
     "text": [
      "NaN values found in entry: Ne\n"
     ]
    },
    {
     "name": "stderr",
     "output_type": "stream",
     "text": [
      "Processing Formulas:  58%|█████▊    | 58242/99996 [03:12<02:11, 318.54it/s]WARNING: There are 1 elemental properties with missing values: \n",
      "\tElectronegativity: Ar\n",
      "Processing Formulas:  58%|█████▊    | 58306/99996 [03:12<02:10, 318.76it/s]"
     ]
    },
    {
     "name": "stdout",
     "output_type": "stream",
     "text": [
      "NaN values found in entry: Ar\n"
     ]
    },
    {
     "name": "stderr",
     "output_type": "stream",
     "text": [
      "Processing Formulas:  72%|███████▏  | 72022/99996 [03:57<01:29, 311.00it/s]WARNING: There are 2 elemental properties with missing values: \n",
      "\tMeltingT: He\n",
      "\tElectronegativity: He\n",
      "Processing Formulas:  72%|███████▏  | 72085/99996 [03:57<01:31, 303.53it/s]"
     ]
    },
    {
     "name": "stdout",
     "output_type": "stream",
     "text": [
      "NaN values found in entry: He\n"
     ]
    },
    {
     "name": "stderr",
     "output_type": "stream",
     "text": [
      "Processing Formulas:  88%|████████▊ | 87504/99996 [04:48<00:40, 309.83it/s]WARNING: There are 1 elemental properties with missing values: \n",
      "\tElectronegativity: Ne\n",
      "Processing Formulas:  88%|████████▊ | 87567/99996 [04:49<00:40, 309.83it/s]"
     ]
    },
    {
     "name": "stdout",
     "output_type": "stream",
     "text": [
      "NaN values found in entry: Ne\n"
     ]
    },
    {
     "name": "stderr",
     "output_type": "stream",
     "text": [
      "Processing Formulas:  96%|█████████▌| 95946/99996 [05:16<00:13, 308.05it/s]WARNING: There are 1 elemental properties with missing values: \n",
      "\tElectronegativity: Ar\n",
      "Processing Formulas:  96%|█████████▌| 96009/99996 [05:17<00:12, 308.74it/s]"
     ]
    },
    {
     "name": "stdout",
     "output_type": "stream",
     "text": [
      "NaN values found in entry: Ar\n"
     ]
    },
    {
     "name": "stderr",
     "output_type": "stream",
     "text": [
      "Processing Formulas: 100%|██████████| 99996/99996 [05:29<00:00, 303.15it/s]\n"
     ]
    },
    {
     "name": "stdout",
     "output_type": "stream",
     "text": [
      "-------------------------Completed: data processing-------------------------\n"
     ]
    }
   ],
   "source": [
    "from data.utils import CompositionEntry\n",
    "from tqdm import tqdm\n",
    "\n",
    "# Filter out rows where 'formula' is NaN\n",
    "df_filtered = df.dropna(subset=['formula'])\n",
    "\n",
    "# Print dropped rows\n",
    "dropped_rows = data_size - df_filtered.shape[0]\n",
    "print('-'*25 + 'Dropped Rows' + '-'*25)\n",
    "print('Dropped rows:', dropped_rows)\n",
    "print('-'*25 + 'Dropped Rows' + '-'*25)\n",
    "\n",
    "print('-'*25 + 'Start: data processing' + '-'*25)\n",
    "features = []\n",
    "targets = []\n",
    "for i in tqdm(range(len(df_filtered)), desc=\"Processing Formulas\"):\n",
    "    formula = df_filtered.iloc[i]['formula']\n",
    "    if formula is float:\n",
    "        continue\n",
    "    entry = CompositionEntry(formula)\n",
    "    stoichiometric = np.array(stoichiometric_generator.generate_features([entry])).flatten()\n",
    "    ionicity = np.array(ionicity_generator.generate_features([entry])).flatten()\n",
    "    elemental = np.array(elemental_generator.generate_features([entry])).flatten()\n",
    "    # charge = np.array(charge_generator.generate_features([entry])).flatten()\n",
    "\n",
    "    # filter all the nan values, if there is any, skip this entry\n",
    "    if np.isnan(stoichiometric).any() or np.isnan(ionicity).any() or np.isnan(elemental).any():\n",
    "        print('NaN values found in entry:', formula)\n",
    "        continue\n",
    "    \n",
    "    # feature = np.concatenate([stoichiometric, ionicity, elemental, charge])\n",
    "    feature = np.concatenate([stoichiometric, ionicity, elemental])\n",
    "    targets.append(df_filtered.iloc[i][['energy_per_atom', 'formation_energy_per_atom', 'magnetization_per_atom']].values)\n",
    "    features.append(feature)\n",
    "\n",
    "print('-'*25 + 'Completed: data processing' + '-'*25)\n",
    "features = np.array(features)\n",
    "targets = np.array(targets)\n"
   ]
  },
  {
   "cell_type": "code",
   "execution_count": 8,
   "metadata": {},
   "outputs": [],
   "source": [
    "# from data.utils import CompositionEntry\n",
    "# import numpy as np\n",
    "# import pandas as pd\n",
    "# # from concurrent.futures import ProcessPoolExecutor\n",
    "# from concurrent.futures import ThreadPoolExecutor\n",
    "# from tqdm import tqdm\n",
    "\n",
    "# def generate_features_for_formula(formula):\n",
    "#     if isinstance(formula, float):\n",
    "#         return None\n",
    "#     entry = CompositionEntry(formula)\n",
    "#     stoichiometric = np.array(stoichiometric_generator.generate_features([entry])).flatten()\n",
    "#     ionicity = np.array(ionicity_generator.generate_features([entry])).flatten()\n",
    "#     elemental = np.array(elemental_generator.generate_features([entry])).flatten()\n",
    "#     # charge = np.array(charge_generator.generate_features([entry])).flatten()\n",
    "\n",
    "#     # filter all the nan values, if there is any, skip this entry\n",
    "#     if np.isnan(stoichiometric).any() or np.isnan(ionicity).any() or np.isnan(elemental).any():\n",
    "#         return None\n",
    "    \n",
    "#     # feature = np.concatenate([stoichiometric, ionicity, elemental, charge])\n",
    "#     feature = np.concatenate([stoichiometric, ionicity, elemental])\n",
    "#     return feature\n",
    "\n",
    "# # Filter out rows where 'formula' is NaN\n",
    "# df_filtered = df.dropna(subset=['formula'])\n",
    "\n",
    "# # Print dropped rows\n",
    "# dropped_rows = data_size - df_filtered.shape[0]\n",
    "# print('-'*25 + 'Dropped Rows' + '-'*25)\n",
    "# print('Dropped rows:', dropped_rows)\n",
    "# print('-'*25 + 'Dropped Rows' + '-'*25)\n",
    "\n",
    "# # Use ThreadPoolExecutor for parallel processing\n",
    "# formulas = df_filtered['formula'].tolist()\n",
    "\n",
    "# with ThreadPoolExecutor() as executor:\n",
    "#     features = list(tqdm(executor.map(generate_features_for_formula, formulas), total=len(formulas)))\n",
    "\n",
    "# # Filter out None values\n",
    "# features = [f for f in features if f is not None]\n",
    "\n",
    "# features = np.array(features)"
   ]
  },
  {
   "cell_type": "code",
   "execution_count": 9,
   "metadata": {},
   "outputs": [
    {
     "name": "stdout",
     "output_type": "stream",
     "text": [
      "-------------------------Features-------------------------\n",
      "shape of features: (99986, 141)\n",
      "[3.00000000e+00 6.12372436e-01 5.38608673e-01 5.06099365e-01\n",
      " 5.01108669e-01 5.00097571e-01 0.00000000e+00 2.13450798e-01\n",
      " 6.83327026e-02 4.62500000e+01 5.60000000e+01 2.52500000e+01\n",
      " 7.70000000e+01 2.10000000e+01 2.10000000e+01 2.82500000e+01\n",
      " 4.90000000e+01 1.72500000e+01 6.00000000e+01 1.10000000e+01\n",
      " 1.10000000e+01 1.11157206e+02 1.47261088e+02 6.62012940e+01\n",
      " 1.92217000e+02 4.49559120e+01 4.49559120e+01 2.01300000e+03\n",
      " 1.05400000e+03 3.63000000e+02 2.73900000e+03 1.68500000e+03\n",
      " 1.81400000e+03 4.50000000e+00 6.00000000e+00 2.25000000e+00\n",
      " 9.00000000e+00 3.00000000e+00 3.00000000e+00 5.00000000e+00\n",
      " 2.00000000e+00 1.00000000e+00 6.00000000e+00 4.00000000e+00\n",
      " 4.00000000e+00 1.68250000e+02 5.10000000e+01 1.36250000e+01\n",
      " 1.92000000e+02 1.41000000e+02 1.70000000e+02 1.53500000e+00\n",
      " 9.80000000e-01 3.32500000e-01 2.20000000e+00 1.22000000e+00\n",
      " 1.36000000e+00 2.00000000e+00 0.00000000e+00 0.00000000e+00\n",
      " 2.00000000e+00 2.00000000e+00 2.00000000e+00 0.00000000e+00\n",
      " 0.00000000e+00 0.00000000e+00 0.00000000e+00 0.00000000e+00\n",
      " 0.00000000e+00 2.25000000e+00 7.00000000e+00 2.37500000e+00\n",
      " 7.00000000e+00 0.00000000e+00 1.00000000e+00 6.00000000e+00\n",
      " 1.40000000e+01 6.00000000e+00 1.40000000e+01 0.00000000e+00\n",
      " 0.00000000e+00 1.02500000e+01 2.00000000e+01 7.25000000e+00\n",
      " 2.30000000e+01 3.00000000e+00 3.00000000e+00 0.00000000e+00\n",
      " 0.00000000e+00 0.00000000e+00 0.00000000e+00 0.00000000e+00\n",
      " 0.00000000e+00 0.00000000e+00 0.00000000e+00 0.00000000e+00\n",
      " 0.00000000e+00 0.00000000e+00 0.00000000e+00 5.25000000e+00\n",
      " 9.00000000e+00 3.75000000e+00 9.00000000e+00 0.00000000e+00\n",
      " 9.00000000e+00 1.00000000e+00 4.00000000e+00 1.50000000e+00\n",
      " 4.00000000e+00 0.00000000e+00 0.00000000e+00 6.25000000e+00\n",
      " 6.00000000e+00 2.75000000e+00 9.00000000e+00 3.00000000e+00\n",
      " 9.00000000e+00 2.24800000e+01 1.70300000e+01 4.38000000e+00\n",
      " 3.12400000e+01 1.42100000e+01 2.22350000e+01 0.00000000e+00\n",
      " 0.00000000e+00 0.00000000e+00 0.00000000e+00 0.00000000e+00\n",
      " 0.00000000e+00 3.17500000e-06 6.35000000e-06 3.17500000e-06\n",
      " 6.35000000e-06 0.00000000e+00 6.35000000e-06 2.01750000e+02\n",
      " 3.10000000e+01 1.16250000e+01 2.25000000e+02 1.94000000e+02\n",
      " 1.94000000e+02]\n",
      "-------------------------Features-------------------------\n"
     ]
    }
   ],
   "source": [
    "print('-'*25 + 'Features' + '-'*25)\n",
    "print(\"shape of features:\", features.shape)\n",
    "print(features[1])\n",
    "print('-'*25 + 'Features' + '-'*25)"
   ]
  },
  {
   "cell_type": "code",
   "execution_count": 12,
   "metadata": {},
   "outputs": [
    {
     "name": "stdout",
     "output_type": "stream",
     "text": [
      "-------------------------Targets-------------------------\n",
      "shape of features: (99986, 3)\n",
      "[-6.795188535 -0.266899046666668 0.21236685]\n",
      "-------------------------Targets-------------------------\n"
     ]
    }
   ],
   "source": [
    "print('-'*25 + 'Targets' + '-'*25)\n",
    "print(\"shape of features:\", targets.shape)\n",
    "print(targets[1])\n",
    "print('-'*25 + 'Targets' + '-'*25)"
   ]
  },
  {
   "cell_type": "code",
   "execution_count": 13,
   "metadata": {},
   "outputs": [
    {
     "name": "stdout",
     "output_type": "stream",
     "text": [
      "-------------------------Saving Data-------------------------\n",
      "-------------------------Data Saved-------------------------\n"
     ]
    }
   ],
   "source": [
    "cur_dir = os.getcwd()\n",
    "save_dir = os.path.join(cur_dir, 'data/datasets')\n",
    "print('-'*25 + 'Saving Data' + '-'*25)\n",
    "np.save(os.path.join(save_dir, 'features_OQMD_100k.npy'), features)\n",
    "np.save(os.path.join(save_dir, 'targets_OQMD_100k.npy'), targets)\n",
    "print('-'*25 + 'Data Saved' + '-'*25)"
   ]
  },
  {
   "cell_type": "code",
   "execution_count": 15,
   "metadata": {},
   "outputs": [
    {
     "name": "stdout",
     "output_type": "stream",
     "text": [
      "-------------------------datasets information-------------------------\n",
      "torch.Size([79988, 141]) torch.Size([79988, 3])\n",
      "torch.Size([19998, 141]) torch.Size([19998, 3])\n",
      "tensor([3.0000e+00, 5.7735e-01, 4.8075e-01, 4.1524e-01, 3.8998e-01, 3.7204e-01,\n",
      "        0.0000e+00, 3.0161e-02, 1.0117e-02, 3.9333e+01, 5.7000e+01, 2.4222e+01,\n",
      "        6.0000e+01, 3.0000e+00, 3.9333e+01, 8.3333e+00, 1.8000e+01, 7.1111e+00,\n",
      "        1.9000e+01, 1.0000e+00, 8.3333e+00, 9.4696e+01, 1.3730e+02, 5.8503e+01,\n",
      "        1.4424e+02, 6.9410e+00, 9.4696e+01, 6.8309e+02, 9.9241e+02, 4.0727e+02,\n",
      "        1.2940e+03, 3.0159e+02, 6.8309e+02, 1.6667e+00, 2.0000e+00, 8.8889e-01,\n",
      "        3.0000e+00, 1.0000e+00, 1.6667e+00, 4.6667e+00, 4.0000e+00, 1.7778e+00,\n",
      "        6.0000e+00, 2.0000e+00, 4.6667e+00, 1.9100e+02, 1.1600e+02, 4.2000e+01,\n",
      "        2.4400e+02, 1.2800e+02, 1.9100e+02, 9.7000e-01, 3.5000e-01, 1.2000e-01,\n",
      "        1.1400e+00, 7.9000e-01, 9.7000e-01, 1.3333e+00, 1.0000e+00, 4.4444e-01,\n",
      "        2.0000e+00, 1.0000e+00, 1.3333e+00, 0.0000e+00, 0.0000e+00, 0.0000e+00,\n",
      "        0.0000e+00, 0.0000e+00, 0.0000e+00, 0.0000e+00, 0.0000e+00, 0.0000e+00,\n",
      "        0.0000e+00, 0.0000e+00, 0.0000e+00, 1.3333e+00, 4.0000e+00, 1.7778e+00,\n",
      "        4.0000e+00, 0.0000e+00, 1.3333e+00, 2.6667e+00, 5.0000e+00, 2.2222e+00,\n",
      "        6.0000e+00, 1.0000e+00, 2.6667e+00, 6.6667e-01, 1.0000e+00, 4.4444e-01,\n",
      "        1.0000e+00, 0.0000e+00, 6.6667e-01, 0.0000e+00, 0.0000e+00, 0.0000e+00,\n",
      "        0.0000e+00, 0.0000e+00, 0.0000e+00, 0.0000e+00, 0.0000e+00, 0.0000e+00,\n",
      "        0.0000e+00, 0.0000e+00, 0.0000e+00, 3.3333e+00, 1.0000e+01, 4.4444e+00,\n",
      "        1.0000e+01, 0.0000e+00, 3.3333e+00, 4.0000e+00, 9.0000e+00, 4.0000e+00,\n",
      "        1.0000e+01, 1.0000e+00, 4.0000e+00, 5.5723e+01, 9.9172e+01, 4.0028e+01,\n",
      "        1.1576e+02, 1.6593e+01, 5.5723e+01, 0.0000e+00, 0.0000e+00, 0.0000e+00,\n",
      "        0.0000e+00, 0.0000e+00, 0.0000e+00, 0.0000e+00, 0.0000e+00, 0.0000e+00,\n",
      "        0.0000e+00, 0.0000e+00, 0.0000e+00, 2.1733e+02, 3.5000e+01, 1.5556e+01,\n",
      "        2.2900e+02, 1.9400e+02, 2.1733e+02])\n",
      "tensor([-1.6878,  0.8169,  0.0423])\n",
      "-------------------------datasets information-------------------------\n"
     ]
    },
    {
     "name": "stderr",
     "output_type": "stream",
     "text": [
      "<ipython-input-15-57f29e54ca3a>:4: UserWarning: To copy construct from a tensor, it is recommended to use sourceTensor.clone().detach() or sourceTensor.clone().detach().requires_grad_(True), rather than torch.tensor(sourceTensor).\n",
      "  features = torch.tensor(features, dtype=torch.float32)\n"
     ]
    }
   ],
   "source": [
    "import random\n",
    "\n",
    "# Convert features and targets to PyTorch tensors\n",
    "features = torch.tensor(features, dtype=torch.float32)\n",
    "targets = torch.tensor(targets.astype(np.float32), dtype=torch.float32)\n",
    "\n",
    "# random_seed = random.randint(0, 1000)\n",
    "random_seed = 1024\n",
    "\n",
    "# Split the data into training and testing sets\n",
    "X_train, X_test, y_train, y_test = train_test_split(features, targets, test_size=0.2, random_state=random_seed)\n",
    "\n",
    "print('-'*25 + 'datasets information' + '-'*25)\n",
    "print(X_train.shape, y_train.shape)\n",
    "print(X_test.shape, y_test.shape)\n",
    "\n",
    "print(X_train[0])\n",
    "print(y_train[0])\n",
    "print('-'*25 + 'datasets information' + '-'*25)"
   ]
  },
  {
   "cell_type": "code",
   "execution_count": 16,
   "metadata": {},
   "outputs": [],
   "source": [
    "# # Define the neural network architecture\n",
    "# class Net(nn.Module):\n",
    "#     def __init__(self):\n",
    "#         super(Net, self).__init__()\n",
    "#         self.fc1 = nn.Linear(X_train.shape[1], 128)\n",
    "#         self.fc2 = nn.Linear(128, 64)\n",
    "#         self.fc3 = nn.Linear(64, 32)\n",
    "#         self.fc4 = nn.Linear(32, y_train.shape[1])\n",
    "    \n",
    "#     def forward(self, x):\n",
    "#         x = torch.relu(self.fc1(x))\n",
    "#         x = torch.relu(self.fc2(x))\n",
    "#         x = torch.relu(self.fc3(x))\n",
    "#         x = self.fc4(x)\n",
    "#         return x"
   ]
  },
  {
   "cell_type": "code",
   "execution_count": 20,
   "metadata": {},
   "outputs": [],
   "source": [
    "# from model.simple_model import Net\n",
    "from model.simple_model_revised import Net\n",
    "# from model.simple_model_residue import Net\n",
    "# from model.model import Net\n",
    "# from model.residue import Net"
   ]
  },
  {
   "cell_type": "code",
   "execution_count": 18,
   "metadata": {},
   "outputs": [],
   "source": [
    "# from tqdm import tqdm\n",
    "# import matplotlib.pyplot as plt\n",
    "\n",
    "# # Note this is the deprecated code\n",
    "\n",
    "# # Initialize the model, loss function, and optimizer\n",
    "# input_dim = X_train.shape[1]\n",
    "# output_dim = y_train.shape[1]\n",
    "# print(\"input dim {}, output dim {}\".format(input_dim, output_dim))\n",
    "# model = Net(input_dim, output_dim)\n",
    "# criterion = nn.MSELoss()\n",
    "# optimizer = optim.Adam(model.parameters(), lr=0.001)\n",
    "\n",
    "# # Train the model\n",
    "# num_epochs = 1000\n",
    "# losses = []\n",
    "# for epoch in tqdm(range(num_epochs), desc=\"Training Epochs\"):\n",
    "#     model.train()\n",
    "#     optimizer.zero_grad()\n",
    "#     outputs = model(X_train)\n",
    "#     loss = criterion(outputs, y_train)\n",
    "#     loss.backward()\n",
    "#     optimizer.step()\n",
    "    \n",
    "#     losses.append(loss.item())\n",
    "\n",
    "# # Evaluate the model\n",
    "# model.eval()\n",
    "# with torch.no_grad():\n",
    "#     predictions = model(X_test)\n",
    "#     mse = criterion(predictions, y_test).item()\n",
    "#     print(f'Mean Squared Error: {mse}')\n",
    "\n",
    "# # Save the trained model\n",
    "# torch.save(model.state_dict(), cur_dir + '/model/' + 'OQMD_100k_model')\n",
    "\n",
    "# # Plot the loss curve\n",
    "# plt.figure(figsize=(10, 5))\n",
    "# plt.plot(range(num_epochs), losses, label='Training Loss')\n",
    "# plt.xlabel('Epoch')\n",
    "# plt.ylabel('Loss')\n",
    "# plt.title('Training Loss Curve')\n",
    "# plt.legend()\n",
    "# plt.show()\n"
   ]
  },
  {
   "cell_type": "code",
   "execution_count": 21,
   "metadata": {},
   "outputs": [
    {
     "name": "stdout",
     "output_type": "stream",
     "text": [
      "Using device: mps\n",
      "input dim 141, output dim 3\n"
     ]
    },
    {
     "name": "stderr",
     "output_type": "stream",
     "text": [
      "Training Epochs: 100%|██████████| 1000/1000 [01:12<00:00, 13.79it/s]\n"
     ]
    },
    {
     "name": "stdout",
     "output_type": "stream",
     "text": [
      "Mean Squared Error: 0.4234520196914673\n"
     ]
    },
    {
     "data": {
      "image/png": "[encoded data removed]",
      "text/plain": [
       "<Figure size 720x360 with 1 Axes>"
      ]
     },
     "metadata": {
      "needs_background": "light"
     },
     "output_type": "display_data"
    },
    {
     "name": "stdout",
     "output_type": "stream",
     "text": [
      "-------------------------Training Summary-------------------------\n",
      "Mean Squared Error: 0.4234520196914673\n",
      "-------------------------Training Summary-------------------------\n"
     ]
    }
   ],
   "source": [
    "from tqdm import tqdm\n",
    "import matplotlib.pyplot as plt\n",
    "\n",
    "# Check if MPS is available and set the device\n",
    "device = torch.device(\"mps\" if torch.backends.mps.is_available() else \"cpu\")\n",
    "print(f\"Using device: {device}\")\n",
    "\n",
    "# Move data to the device\n",
    "X_train, X_test, y_train, y_test = X_train.to(device), X_test.to(device), y_train.to(device), y_test.to(device)\n",
    "\n",
    "# Initialize the model, loss function, and optimizer\n",
    "input_dim = X_train.shape[1]\n",
    "output_dim = y_train.shape[1]\n",
    "print(\"input dim {}, output dim {}\".format(input_dim, output_dim))\n",
    "model = Net(input_dim, output_dim).to(device)\n",
    "criterion = nn.MSELoss()\n",
    "optimizer = optim.Adam(model.parameters(), lr=0.001)\n",
    "\n",
    "# Train the model\n",
    "num_epochs = 1000\n",
    "losses = []\n",
    "for epoch in tqdm(range(num_epochs), desc=\"Training Epochs\"):\n",
    "    model.train()\n",
    "    optimizer.zero_grad()\n",
    "    outputs = model(X_train)\n",
    "    loss = criterion(outputs, y_train)\n",
    "    loss.backward()\n",
    "    optimizer.step()\n",
    "    \n",
    "    losses.append(loss.item())\n",
    "    \n",
    "    # if (epoch+1) % 10 == 0:\n",
    "    #     print(f'Epoch [{epoch+1}/{num_epochs}], Loss: {loss.item():.4f}')\n",
    "\n",
    "# Evaluate the model\n",
    "model.eval()\n",
    "with torch.no_grad():\n",
    "    predictions = model(X_test)\n",
    "    mse = criterion(predictions, y_test).item()\n",
    "    print(f'Mean Squared Error: {mse}')\n",
    "\n",
    "# Save the trained model\n",
    "torch.save(model.state_dict(), cur_dir + '/model/' + 'OQMD_100k_model')\n",
    "\n",
    "# Plot the loss curve\n",
    "plt.figure(figsize=(10, 5))\n",
    "plt.plot(range(num_epochs), losses, label='Training Loss')\n",
    "plt.xlabel('Epoch')\n",
    "plt.ylabel('Loss')\n",
    "plt.title('Training Loss Curve')\n",
    "plt.legend()\n",
    "plt.show()\n",
    "\n",
    "print('-'*25 + 'Training Summary' + '-'*25)\n",
    "print(f'Mean Squared Error: {mse}')\n",
    "print('-'*25 + 'Training Summary' + '-'*25)\n"
   ]
  },
  {
   "cell_type": "code",
   "execution_count": 57,
   "metadata": {},
   "outputs": [],
   "source": [
    "# model = Net()\n",
    "# model.load_state_dict(torch.load(current_dir + '/model/' + 'OQMD_100k_model'))\n",
    "\n",
    "# # Make predictions\n",
    "# model.eval()\n",
    "# with torch.no_grad():\n",
    "#     entry = CompositionEntry(\"Y2I6\")\n",
    "#     stoichiometric = np.array(stoichiometric_generator.generate_features([entry])).flatten()\n",
    "#     ionicity = np.array(ionicity_generator.generate_features([entry])).flatten()\n",
    "#     elemental = np.array(elemental_generator.generate_features([entry])).flatten()\n",
    "#     # charge = np.array(charge_generator.generate_features([entry])).flatten()\n",
    "    \n",
    "#     # feature = np.concatenate([stoichiometric, ionicity, elemental, charge])\n",
    "#     feature = np.concatenate([stoichiometric, ionicity, elemental])\n",
    "#     feature = torch.tensor(feature, dtype=torch.float32)\n",
    "#     prediction = model(feature)\n",
    "#     print(prediction)\n",
    "\n",
    "# # 'bandgap', 'energy_pa', 'volume_pa', 'magmom_pa', 'fermi', 'delta_e'"
   ]
  },
  {
   "cell_type": "code",
   "execution_count": 34,
   "metadata": {},
   "outputs": [
    {
     "name": "stdout",
     "output_type": "stream",
     "text": [
      "Energy per atom: -3.8907 eV\n",
      "Formation energy per atom: -0.3129 eV\n",
      "Magnetization per atom: 0.2202 Bohr magneton\n"
     ]
    }
   ],
   "source": [
    "input_dim = X_train.shape[1]\n",
    "output_dim = y_train.shape[1]\n",
    "model = Net(input_dim, output_dim)\n",
    "model.load_state_dict(torch.load(cur_dir + '/model/' + 'OQMD_100k_model'))\n",
    "\n",
    "def print_prediction(pred):\n",
    "    print(f'Energy per atom: {pred[0][0]:.4f} eV')\n",
    "    print(f'Formation energy per atom: {pred[0][1]:.4f} eV')\n",
    "    print(f'Magnetization per atom: {pred[0][2]:.4f} Bohr magneton')\n",
    "\n",
    "# Make predictions\n",
    "model.eval()\n",
    "with torch.no_grad():\n",
    "    entry = CompositionEntry(\"Y2I6\")\n",
    "    stoichiometric = np.array(stoichiometric_generator.generate_features([entry])).flatten()\n",
    "    ionicity = np.array(ionicity_generator.generate_features([entry])).flatten()\n",
    "    elemental = np.array(elemental_generator.generate_features([entry])).flatten()\n",
    "    # charge = np.array(charge_generator.generate_features([entry])).flatten()\n",
    "    \n",
    "    # feature = np.concatenate([stoichiometric, ionicity, elemental, charge])\n",
    "    feature = np.concatenate([stoichiometric, ionicity, elemental])\n",
    "    feature = torch.tensor(feature, dtype=torch.float32).unsqueeze(0)  # Add this line to fix the error\n",
    "    prediction = model(feature)\n",
    "    # print(prediction)\n",
    "    print_prediction(prediction)"
   ]
  },
  {
   "cell_type": "code",
   "execution_count": 32,
   "metadata": {},
   "outputs": [
    {
     "name": "stdout",
     "output_type": "stream",
     "text": [
      "Using device: mps\n",
      "Mean Squared Error: 0.6167351841436306\n"
     ]
    }
   ],
   "source": [
    "from sklearn.metrics import mean_squared_error\n",
    "\n",
    "input_dim = X_train.shape[1]\n",
    "output_dim = y_train.shape[1]\n",
    "model = Net(input_dim, output_dim)\n",
    "model.load_state_dict(torch.load(cur_dir + '/model/' + 'OQMD_100k_model'))\n",
    "\n",
    "# use the data from \"small_set.txt\" for testing\n",
    "def read_data(file_path):\n",
    "    # Define column names\n",
    "    column_names = [\n",
    "        'name', 'bandgap', 'energy_pa', 'volume_pa', 'magmom_pa', \n",
    "        'fermi', 'hull_distance', 'delta_e'\n",
    "    ]\n",
    "    \n",
    "    # Read the data\n",
    "    data = pd.read_csv(file_path, delim_whitespace=True, names=column_names, skiprows=1)\n",
    "    \n",
    "    # Handle missing values\n",
    "    data.replace('None', np.nan, inplace=True)\n",
    "    data = data.apply(pd.to_numeric, errors='ignore')\n",
    "    \n",
    "    return data\n",
    "\n",
    "file_path = './data/datasets/small_set.txt'\n",
    "data = read_data(file_path)\n",
    "\n",
    "# Only keep Name, Energy per Atom and Magnetization per Atom\n",
    "data = data[['name', 'energy_pa', 'magmom_pa']]\n",
    "\n",
    "# Evaluate the model and calculate the mean squared error\n",
    "device = torch.device(\"mps\" if torch.backends.mps.is_available() else \"cpu\")\n",
    "print(f\"Using device: {device}\")\n",
    "model.to(device)\n",
    "model.eval()\n",
    "\n",
    "all_predictions = []\n",
    "all_targets = []\n",
    "\n",
    "with torch.no_grad():\n",
    "    for i in range(len(data)):\n",
    "        entry = CompositionEntry(data.iloc[i]['name'])\n",
    "        stoichiometric = np.array(stoichiometric_generator.generate_features([entry])).flatten()\n",
    "        ionicity = np.array(ionicity_generator.generate_features([entry])).flatten()\n",
    "        elemental = np.array(elemental_generator.generate_features([entry])).flatten()\n",
    "        \n",
    "        # filter all the nan values, if there is any, skip this entry\n",
    "        if np.isnan(stoichiometric).any() or np.isnan(ionicity).any() or np.isnan(elemental).any():\n",
    "            print('NaN values found in entry:', data.iloc[i]['name'])\n",
    "            continue\n",
    "        \n",
    "        feature = np.concatenate([stoichiometric, ionicity, elemental])\n",
    "        feature = torch.tensor(feature, dtype=torch.float32).unsqueeze(0).to(device)\n",
    "        \n",
    "        output = model(feature)\n",
    "        output = output[0, [0, 2]]  # Only keep Energy per Atom and Magnetization per Atom\n",
    "        \n",
    "        all_predictions.append(output.cpu().numpy())\n",
    "        all_targets.append(data.iloc[i][['energy_pa', 'magmom_pa']].values)\n",
    "\n",
    "mse = mean_squared_error(all_targets, all_predictions)\n",
    "print(f'Mean Squared Error: {mse}')"
   ]
  }
 ],
 "metadata": {
  "kernelspec": {
   "display_name": "torch-env",
   "language": "python",
   "name": "python3"
  },
  "language_info": {
   "codemirror_mode": {
    "name": "ipython",
    "version": 3
   },
   "file_extension": ".py",
   "mimetype": "text/x-python",
   "name": "python",
   "nbconvert_exporter": "python",
   "pygments_lexer": "ipython3",
   "version": "3.8.13"
  }
 },
 "nbformat": 4,
 "nbformat_minor": 2
}
